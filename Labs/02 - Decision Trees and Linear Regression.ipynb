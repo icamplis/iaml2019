{
 "cells": [
  {
   "cell_type": "markdown",
   "metadata": {},
   "source": [
    "# Introductory applied machine learning (INFR10069) "
   ]
  },
  {
   "cell_type": "markdown",
   "metadata": {},
   "source": [
    "# Lab 2: Decision trees and linear regression"
   ]
  },
  {
   "cell_type": "markdown",
   "metadata": {},
   "source": [
    "In the first part of this lab we perform Decision trees classification on the [German credit](http://archive.ics.uci.edu/ml/datasets/Statlog+%28German+Credit+Data%29) data set. In the second part we learn how to train simple linear regression model by using the [CPU performance](https://archive.ics.uci.edu/ml/datasets/Computer+Hardware) data set. Both datasets (`credit.csv` and `cpu.csv`) are located within the `datasets` directory (adjacent to this file)."
   ]
  },
  {
   "cell_type": "markdown",
   "metadata": {},
   "source": [
    "As always, first activate the python environment if not already done so (remember to exclude 'source' if you're on windows):"
   ]
  },
  {
   "cell_type": "markdown",
   "metadata": {},
   "source": [
    "```{bash}\n",
    "source activate py3iaml\n",
    "```"
   ]
  },
  {
   "cell_type": "markdown",
   "metadata": {},
   "source": [
    "Now let's import the packages (*This will generate some warnings related to the libraries: ignore*):"
   ]
  },
  {
   "cell_type": "code",
   "execution_count": 7,
   "metadata": {},
   "outputs": [],
   "source": [
    "# Import packages\n",
    "import os\n",
    "import numpy as np \n",
    "import pandas as pd\n",
    "import matplotlib.pyplot as plt\n",
    "import seaborn as sns\n",
    "import graphviz\n",
    "from sklearn.model_selection import train_test_split\n",
    "from sklearn.linear_model import LinearRegression\n",
    "from sklearn.tree import DecisionTreeClassifier, export_graphviz\n",
    "from sklearn.ensemble import RandomForestClassifier\n",
    "from sklearn.metrics import accuracy_score, confusion_matrix, r2_score\n",
    "%matplotlib inline"
   ]
  },
  {
   "cell_type": "markdown",
   "metadata": {},
   "source": [
    "## 1. Decision Trees\n",
    "One of the great advantages of decision trees is their interpretability. The rules learnt for classification are easy for a person to follow, unlike the opaque \"black box\" of many other methods, such as neural networks. We demonstrate the utility of this using a German credit data set. You can read a description of this dataset at the [UCI site](http://archive.ics.uci.edu/ml/datasets/Statlog+%28German+Credit+Data%29). The task is to predict whether a loan approval is good or bad credit risk based on 20 attributes. We've simplified the data set somewhat, particularly making attribute names and values more meaningful."
   ]
  },
  {
   "cell_type": "markdown",
   "metadata": {
    "collapsed": true
   },
   "source": [
    "We will load the credit dataset into a pandas DataFrame structure. "
   ]
  },
  {
   "cell_type": "code",
   "execution_count": 8,
   "metadata": {},
   "outputs": [],
   "source": [
    "# Load the dataset\n",
    "data_path = os.path.join(os.getcwd(), 'datasets', 'credit.csv')\n",
    "credit = pd.read_csv(data_path, delimiter = ',')"
   ]
  },
  {
   "cell_type": "markdown",
   "metadata": {},
   "source": [
    "### ========== Question 1.1 ==========\n",
    "Display the number of data points and attributes in the dataset. "
   ]
  },
  {
   "cell_type": "code",
   "execution_count": 9,
   "metadata": {},
   "outputs": [
    {
     "name": "stdout",
     "output_type": "stream",
     "text": [
      "Number of data points = 1001, number of attributes = 21\n"
     ]
    }
   ],
   "source": [
    "print(\"Number of data points = \" + str(len(credit)) + \", number of attributes = \" + str(len(credit.columns)))"
   ]
  },
  {
   "cell_type": "markdown",
   "metadata": {},
   "source": [
    "### ========== Question 1.2 ==========\n",
    "Get a feeling of the data by using pandas `describe()` method. Be careful - there is a mixture of numeric and categorical data and hence will need to output it in two stages:"
   ]
  },
  {
   "cell_type": "code",
   "execution_count": 10,
   "metadata": {},
   "outputs": [
    {
     "data": {
      "text/html": [
       "<div>\n",
       "<style scoped>\n",
       "    .dataframe tbody tr th:only-of-type {\n",
       "        vertical-align: middle;\n",
       "    }\n",
       "\n",
       "    .dataframe tbody tr th {\n",
       "        vertical-align: top;\n",
       "    }\n",
       "\n",
       "    .dataframe thead th {\n",
       "        text-align: right;\n",
       "    }\n",
       "</style>\n",
       "<table border=\"1\" class=\"dataframe\">\n",
       "  <thead>\n",
       "    <tr style=\"text-align: right;\">\n",
       "      <th></th>\n",
       "      <th>Duration</th>\n",
       "      <th>CreditAmount</th>\n",
       "      <th>InstallmentRate</th>\n",
       "      <th>ResidentSince</th>\n",
       "      <th>Age</th>\n",
       "      <th>NumCreditsAtBank</th>\n",
       "      <th>Dependents</th>\n",
       "    </tr>\n",
       "  </thead>\n",
       "  <tbody>\n",
       "    <tr>\n",
       "      <th>count</th>\n",
       "      <td>1001.000000</td>\n",
       "      <td>1.001000e+03</td>\n",
       "      <td>1001.000000</td>\n",
       "      <td>1001.000000</td>\n",
       "      <td>1001.000000</td>\n",
       "      <td>1001.000000</td>\n",
       "      <td>1001.000000</td>\n",
       "    </tr>\n",
       "    <tr>\n",
       "      <th>mean</th>\n",
       "      <td>20.882118</td>\n",
       "      <td>-9.957330e+05</td>\n",
       "      <td>-7.019980</td>\n",
       "      <td>2.842158</td>\n",
       "      <td>35.217782</td>\n",
       "      <td>0.406593</td>\n",
       "      <td>0.969031</td>\n",
       "    </tr>\n",
       "    <tr>\n",
       "      <th>std</th>\n",
       "      <td>12.070878</td>\n",
       "      <td>3.160708e+07</td>\n",
       "      <td>316.165715</td>\n",
       "      <td>1.106825</td>\n",
       "      <td>15.398264</td>\n",
       "      <td>31.656714</td>\n",
       "      <td>5.894916</td>\n",
       "    </tr>\n",
       "    <tr>\n",
       "      <th>min</th>\n",
       "      <td>0.000000</td>\n",
       "      <td>-1.000000e+09</td>\n",
       "      <td>-10000.000000</td>\n",
       "      <td>0.000000</td>\n",
       "      <td>-293.000000</td>\n",
       "      <td>-1000.000000</td>\n",
       "      <td>-185.000000</td>\n",
       "    </tr>\n",
       "    <tr>\n",
       "      <th>25%</th>\n",
       "      <td>12.000000</td>\n",
       "      <td>1.364000e+03</td>\n",
       "      <td>2.000000</td>\n",
       "      <td>2.000000</td>\n",
       "      <td>27.000000</td>\n",
       "      <td>1.000000</td>\n",
       "      <td>1.000000</td>\n",
       "    </tr>\n",
       "    <tr>\n",
       "      <th>50%</th>\n",
       "      <td>18.000000</td>\n",
       "      <td>2.319000e+03</td>\n",
       "      <td>3.000000</td>\n",
       "      <td>3.000000</td>\n",
       "      <td>33.000000</td>\n",
       "      <td>1.000000</td>\n",
       "      <td>1.000000</td>\n",
       "    </tr>\n",
       "    <tr>\n",
       "      <th>75%</th>\n",
       "      <td>24.000000</td>\n",
       "      <td>3.972000e+03</td>\n",
       "      <td>4.000000</td>\n",
       "      <td>4.000000</td>\n",
       "      <td>42.000000</td>\n",
       "      <td>2.000000</td>\n",
       "      <td>1.000000</td>\n",
       "    </tr>\n",
       "    <tr>\n",
       "      <th>max</th>\n",
       "      <td>72.000000</td>\n",
       "      <td>1.842400e+04</td>\n",
       "      <td>4.000000</td>\n",
       "      <td>4.000000</td>\n",
       "      <td>75.000000</td>\n",
       "      <td>4.000000</td>\n",
       "      <td>2.000000</td>\n",
       "    </tr>\n",
       "  </tbody>\n",
       "</table>\n",
       "</div>"
      ],
      "text/plain": [
       "          Duration  CreditAmount  InstallmentRate  ResidentSince          Age  \\\n",
       "count  1001.000000  1.001000e+03      1001.000000    1001.000000  1001.000000   \n",
       "mean     20.882118 -9.957330e+05        -7.019980       2.842158    35.217782   \n",
       "std      12.070878  3.160708e+07       316.165715       1.106825    15.398264   \n",
       "min       0.000000 -1.000000e+09    -10000.000000       0.000000  -293.000000   \n",
       "25%      12.000000  1.364000e+03         2.000000       2.000000    27.000000   \n",
       "50%      18.000000  2.319000e+03         3.000000       3.000000    33.000000   \n",
       "75%      24.000000  3.972000e+03         4.000000       4.000000    42.000000   \n",
       "max      72.000000  1.842400e+04         4.000000       4.000000    75.000000   \n",
       "\n",
       "       NumCreditsAtBank   Dependents  \n",
       "count       1001.000000  1001.000000  \n",
       "mean           0.406593     0.969031  \n",
       "std           31.656714     5.894916  \n",
       "min        -1000.000000  -185.000000  \n",
       "25%            1.000000     1.000000  \n",
       "50%            1.000000     1.000000  \n",
       "75%            2.000000     1.000000  \n",
       "max            4.000000     2.000000  "
      ]
     },
     "execution_count": 10,
     "metadata": {},
     "output_type": "execute_result"
    }
   ],
   "source": [
    "credit.describe()"
   ]
  },
  {
   "cell_type": "code",
   "execution_count": 11,
   "metadata": {},
   "outputs": [
    {
     "data": {
      "text/html": [
       "<div>\n",
       "<style scoped>\n",
       "    .dataframe tbody tr th:only-of-type {\n",
       "        vertical-align: middle;\n",
       "    }\n",
       "\n",
       "    .dataframe tbody tr th {\n",
       "        vertical-align: top;\n",
       "    }\n",
       "\n",
       "    .dataframe thead th {\n",
       "        text-align: right;\n",
       "    }\n",
       "</style>\n",
       "<table border=\"1\" class=\"dataframe\">\n",
       "  <thead>\n",
       "    <tr style=\"text-align: right;\">\n",
       "      <th></th>\n",
       "      <th>CheckingAccount</th>\n",
       "      <th>CreditHistory</th>\n",
       "      <th>Purpose</th>\n",
       "      <th>SavingsAccount</th>\n",
       "      <th>YearsEmployed</th>\n",
       "      <th>PersonalStatus</th>\n",
       "      <th>OtherDebtors</th>\n",
       "      <th>Property</th>\n",
       "      <th>OtherPlans</th>\n",
       "      <th>Housing</th>\n",
       "      <th>Job</th>\n",
       "      <th>Telephone</th>\n",
       "      <th>Foreign</th>\n",
       "      <th>Approve</th>\n",
       "    </tr>\n",
       "  </thead>\n",
       "  <tbody>\n",
       "    <tr>\n",
       "      <th>count</th>\n",
       "      <td>1001</td>\n",
       "      <td>1001</td>\n",
       "      <td>1001</td>\n",
       "      <td>1001</td>\n",
       "      <td>1001</td>\n",
       "      <td>1001</td>\n",
       "      <td>1001</td>\n",
       "      <td>1001</td>\n",
       "      <td>1001</td>\n",
       "      <td>1001</td>\n",
       "      <td>1001</td>\n",
       "      <td>1001</td>\n",
       "      <td>1001</td>\n",
       "      <td>1001</td>\n",
       "    </tr>\n",
       "    <tr>\n",
       "      <th>unique</th>\n",
       "      <td>4</td>\n",
       "      <td>5</td>\n",
       "      <td>10</td>\n",
       "      <td>5</td>\n",
       "      <td>5</td>\n",
       "      <td>5</td>\n",
       "      <td>3</td>\n",
       "      <td>4</td>\n",
       "      <td>3</td>\n",
       "      <td>3</td>\n",
       "      <td>4</td>\n",
       "      <td>2</td>\n",
       "      <td>2</td>\n",
       "      <td>2</td>\n",
       "    </tr>\n",
       "    <tr>\n",
       "      <th>top</th>\n",
       "      <td>none</td>\n",
       "      <td>ok_til_now</td>\n",
       "      <td>television</td>\n",
       "      <td>&lt;100</td>\n",
       "      <td>&lt;4</td>\n",
       "      <td>male_single</td>\n",
       "      <td>none</td>\n",
       "      <td>car</td>\n",
       "      <td>none</td>\n",
       "      <td>own</td>\n",
       "      <td>skilled</td>\n",
       "      <td>no</td>\n",
       "      <td>yes</td>\n",
       "      <td>good</td>\n",
       "    </tr>\n",
       "    <tr>\n",
       "      <th>freq</th>\n",
       "      <td>394</td>\n",
       "      <td>530</td>\n",
       "      <td>280</td>\n",
       "      <td>603</td>\n",
       "      <td>339</td>\n",
       "      <td>548</td>\n",
       "      <td>908</td>\n",
       "      <td>333</td>\n",
       "      <td>815</td>\n",
       "      <td>714</td>\n",
       "      <td>631</td>\n",
       "      <td>596</td>\n",
       "      <td>963</td>\n",
       "      <td>701</td>\n",
       "    </tr>\n",
       "  </tbody>\n",
       "</table>\n",
       "</div>"
      ],
      "text/plain": [
       "       CheckingAccount CreditHistory     Purpose SavingsAccount YearsEmployed  \\\n",
       "count             1001          1001        1001           1001          1001   \n",
       "unique               4             5          10              5             5   \n",
       "top               none    ok_til_now  television           <100            <4   \n",
       "freq               394           530         280            603           339   \n",
       "\n",
       "       PersonalStatus OtherDebtors Property OtherPlans Housing      Job  \\\n",
       "count            1001         1001     1001       1001    1001     1001   \n",
       "unique              5            3        4          3       3        4   \n",
       "top       male_single         none      car       none     own  skilled   \n",
       "freq              548          908      333        815     714      631   \n",
       "\n",
       "       Telephone Foreign Approve  \n",
       "count       1001    1001    1001  \n",
       "unique         2       2       2  \n",
       "top           no     yes    good  \n",
       "freq         596     963     701  "
      ]
     },
     "execution_count": 11,
     "metadata": {},
     "output_type": "execute_result"
    }
   ],
   "source": [
    "credit.describe(include=np.object)"
   ]
  },
  {
   "cell_type": "markdown",
   "metadata": {},
   "source": [
    "### ========== Question 1.3 ==========\n",
    "Display the first 10 data points of the dataset\n",
    "\n",
    "*TIP*: You may need to set the option to display all columns: look at [pandas.set_option](https://pandas.pydata.org/pandas-docs/version/0.23.4/generated/pandas.set_option.html)."
   ]
  },
  {
   "cell_type": "code",
   "execution_count": 12,
   "metadata": {},
   "outputs": [
    {
     "data": {
      "text/html": [
       "<div>\n",
       "<style scoped>\n",
       "    .dataframe tbody tr th:only-of-type {\n",
       "        vertical-align: middle;\n",
       "    }\n",
       "\n",
       "    .dataframe tbody tr th {\n",
       "        vertical-align: top;\n",
       "    }\n",
       "\n",
       "    .dataframe thead th {\n",
       "        text-align: right;\n",
       "    }\n",
       "</style>\n",
       "<table border=\"1\" class=\"dataframe\">\n",
       "  <thead>\n",
       "    <tr style=\"text-align: right;\">\n",
       "      <th></th>\n",
       "      <th>CheckingAccount</th>\n",
       "      <th>Duration</th>\n",
       "      <th>CreditHistory</th>\n",
       "      <th>Purpose</th>\n",
       "      <th>CreditAmount</th>\n",
       "      <th>SavingsAccount</th>\n",
       "      <th>YearsEmployed</th>\n",
       "      <th>InstallmentRate</th>\n",
       "      <th>PersonalStatus</th>\n",
       "      <th>OtherDebtors</th>\n",
       "      <th>...</th>\n",
       "      <th>Property</th>\n",
       "      <th>Age</th>\n",
       "      <th>OtherPlans</th>\n",
       "      <th>Housing</th>\n",
       "      <th>NumCreditsAtBank</th>\n",
       "      <th>Job</th>\n",
       "      <th>Dependents</th>\n",
       "      <th>Telephone</th>\n",
       "      <th>Foreign</th>\n",
       "      <th>Approve</th>\n",
       "    </tr>\n",
       "  </thead>\n",
       "  <tbody>\n",
       "    <tr>\n",
       "      <th>0</th>\n",
       "      <td>&lt;0</td>\n",
       "      <td>0.0</td>\n",
       "      <td>ok</td>\n",
       "      <td>furniture</td>\n",
       "      <td>-1.000000e+09</td>\n",
       "      <td>unknown</td>\n",
       "      <td>unemployed</td>\n",
       "      <td>-10000.0</td>\n",
       "      <td>female_single</td>\n",
       "      <td>none</td>\n",
       "      <td>...</td>\n",
       "      <td>car</td>\n",
       "      <td>-293.0</td>\n",
       "      <td>none</td>\n",
       "      <td>own</td>\n",
       "      <td>-1000.0</td>\n",
       "      <td>skilled</td>\n",
       "      <td>-185.0</td>\n",
       "      <td>yes</td>\n",
       "      <td>no</td>\n",
       "      <td>good</td>\n",
       "    </tr>\n",
       "    <tr>\n",
       "      <th>1</th>\n",
       "      <td>&lt;0</td>\n",
       "      <td>6.0</td>\n",
       "      <td>critical</td>\n",
       "      <td>television</td>\n",
       "      <td>1.169000e+03</td>\n",
       "      <td>unknown</td>\n",
       "      <td>&gt;=7</td>\n",
       "      <td>4.0</td>\n",
       "      <td>male_single</td>\n",
       "      <td>none</td>\n",
       "      <td>...</td>\n",
       "      <td>real_estate</td>\n",
       "      <td>67.0</td>\n",
       "      <td>none</td>\n",
       "      <td>own</td>\n",
       "      <td>2.0</td>\n",
       "      <td>skilled</td>\n",
       "      <td>1.0</td>\n",
       "      <td>yes</td>\n",
       "      <td>yes</td>\n",
       "      <td>good</td>\n",
       "    </tr>\n",
       "    <tr>\n",
       "      <th>2</th>\n",
       "      <td>&lt;200</td>\n",
       "      <td>48.0</td>\n",
       "      <td>ok_til_now</td>\n",
       "      <td>television</td>\n",
       "      <td>5.951000e+03</td>\n",
       "      <td>&lt;100</td>\n",
       "      <td>&lt;4</td>\n",
       "      <td>2.0</td>\n",
       "      <td>female</td>\n",
       "      <td>none</td>\n",
       "      <td>...</td>\n",
       "      <td>real_estate</td>\n",
       "      <td>22.0</td>\n",
       "      <td>none</td>\n",
       "      <td>own</td>\n",
       "      <td>1.0</td>\n",
       "      <td>skilled</td>\n",
       "      <td>1.0</td>\n",
       "      <td>no</td>\n",
       "      <td>yes</td>\n",
       "      <td>bad</td>\n",
       "    </tr>\n",
       "    <tr>\n",
       "      <th>3</th>\n",
       "      <td>none</td>\n",
       "      <td>12.0</td>\n",
       "      <td>critical</td>\n",
       "      <td>education</td>\n",
       "      <td>2.096000e+03</td>\n",
       "      <td>&lt;100</td>\n",
       "      <td>&lt;7</td>\n",
       "      <td>2.0</td>\n",
       "      <td>male_single</td>\n",
       "      <td>none</td>\n",
       "      <td>...</td>\n",
       "      <td>real_estate</td>\n",
       "      <td>49.0</td>\n",
       "      <td>none</td>\n",
       "      <td>own</td>\n",
       "      <td>1.0</td>\n",
       "      <td>unskilled</td>\n",
       "      <td>2.0</td>\n",
       "      <td>no</td>\n",
       "      <td>yes</td>\n",
       "      <td>good</td>\n",
       "    </tr>\n",
       "    <tr>\n",
       "      <th>4</th>\n",
       "      <td>&lt;0</td>\n",
       "      <td>42.0</td>\n",
       "      <td>ok_til_now</td>\n",
       "      <td>furniture</td>\n",
       "      <td>7.882000e+03</td>\n",
       "      <td>&lt;100</td>\n",
       "      <td>&lt;7</td>\n",
       "      <td>2.0</td>\n",
       "      <td>male_single</td>\n",
       "      <td>guarantor</td>\n",
       "      <td>...</td>\n",
       "      <td>savings</td>\n",
       "      <td>45.0</td>\n",
       "      <td>none</td>\n",
       "      <td>free</td>\n",
       "      <td>1.0</td>\n",
       "      <td>skilled</td>\n",
       "      <td>2.0</td>\n",
       "      <td>no</td>\n",
       "      <td>yes</td>\n",
       "      <td>good</td>\n",
       "    </tr>\n",
       "    <tr>\n",
       "      <th>5</th>\n",
       "      <td>&lt;0</td>\n",
       "      <td>24.0</td>\n",
       "      <td>past_delays</td>\n",
       "      <td>car_new</td>\n",
       "      <td>4.870000e+03</td>\n",
       "      <td>&lt;100</td>\n",
       "      <td>&lt;4</td>\n",
       "      <td>3.0</td>\n",
       "      <td>male_single</td>\n",
       "      <td>none</td>\n",
       "      <td>...</td>\n",
       "      <td>unknown</td>\n",
       "      <td>53.0</td>\n",
       "      <td>none</td>\n",
       "      <td>free</td>\n",
       "      <td>2.0</td>\n",
       "      <td>skilled</td>\n",
       "      <td>2.0</td>\n",
       "      <td>no</td>\n",
       "      <td>yes</td>\n",
       "      <td>bad</td>\n",
       "    </tr>\n",
       "    <tr>\n",
       "      <th>6</th>\n",
       "      <td>none</td>\n",
       "      <td>36.0</td>\n",
       "      <td>ok_til_now</td>\n",
       "      <td>education</td>\n",
       "      <td>9.055000e+03</td>\n",
       "      <td>unknown</td>\n",
       "      <td>&lt;4</td>\n",
       "      <td>2.0</td>\n",
       "      <td>male_single</td>\n",
       "      <td>none</td>\n",
       "      <td>...</td>\n",
       "      <td>unknown</td>\n",
       "      <td>35.0</td>\n",
       "      <td>none</td>\n",
       "      <td>free</td>\n",
       "      <td>1.0</td>\n",
       "      <td>unskilled</td>\n",
       "      <td>2.0</td>\n",
       "      <td>yes</td>\n",
       "      <td>yes</td>\n",
       "      <td>good</td>\n",
       "    </tr>\n",
       "    <tr>\n",
       "      <th>7</th>\n",
       "      <td>none</td>\n",
       "      <td>24.0</td>\n",
       "      <td>ok_til_now</td>\n",
       "      <td>furniture</td>\n",
       "      <td>2.835000e+03</td>\n",
       "      <td>&lt;1000</td>\n",
       "      <td>&gt;=7</td>\n",
       "      <td>3.0</td>\n",
       "      <td>male_single</td>\n",
       "      <td>none</td>\n",
       "      <td>...</td>\n",
       "      <td>savings</td>\n",
       "      <td>53.0</td>\n",
       "      <td>none</td>\n",
       "      <td>own</td>\n",
       "      <td>1.0</td>\n",
       "      <td>skilled</td>\n",
       "      <td>1.0</td>\n",
       "      <td>no</td>\n",
       "      <td>yes</td>\n",
       "      <td>good</td>\n",
       "    </tr>\n",
       "    <tr>\n",
       "      <th>8</th>\n",
       "      <td>&lt;200</td>\n",
       "      <td>36.0</td>\n",
       "      <td>ok_til_now</td>\n",
       "      <td>car_used</td>\n",
       "      <td>6.948000e+03</td>\n",
       "      <td>&lt;100</td>\n",
       "      <td>&lt;4</td>\n",
       "      <td>2.0</td>\n",
       "      <td>male_single</td>\n",
       "      <td>none</td>\n",
       "      <td>...</td>\n",
       "      <td>car</td>\n",
       "      <td>35.0</td>\n",
       "      <td>none</td>\n",
       "      <td>rent</td>\n",
       "      <td>1.0</td>\n",
       "      <td>management</td>\n",
       "      <td>1.0</td>\n",
       "      <td>yes</td>\n",
       "      <td>yes</td>\n",
       "      <td>good</td>\n",
       "    </tr>\n",
       "    <tr>\n",
       "      <th>9</th>\n",
       "      <td>none</td>\n",
       "      <td>12.0</td>\n",
       "      <td>ok_til_now</td>\n",
       "      <td>television</td>\n",
       "      <td>3.059000e+03</td>\n",
       "      <td>&gt;=1000</td>\n",
       "      <td>&lt;7</td>\n",
       "      <td>2.0</td>\n",
       "      <td>male_divorced</td>\n",
       "      <td>none</td>\n",
       "      <td>...</td>\n",
       "      <td>real_estate</td>\n",
       "      <td>61.0</td>\n",
       "      <td>none</td>\n",
       "      <td>own</td>\n",
       "      <td>1.0</td>\n",
       "      <td>unskilled</td>\n",
       "      <td>1.0</td>\n",
       "      <td>no</td>\n",
       "      <td>yes</td>\n",
       "      <td>good</td>\n",
       "    </tr>\n",
       "  </tbody>\n",
       "</table>\n",
       "<p>10 rows × 21 columns</p>\n",
       "</div>"
      ],
      "text/plain": [
       "  CheckingAccount  Duration CreditHistory     Purpose  CreditAmount  \\\n",
       "0              <0       0.0            ok   furniture -1.000000e+09   \n",
       "1              <0       6.0      critical  television  1.169000e+03   \n",
       "2            <200      48.0    ok_til_now  television  5.951000e+03   \n",
       "3            none      12.0      critical   education  2.096000e+03   \n",
       "4              <0      42.0    ok_til_now   furniture  7.882000e+03   \n",
       "5              <0      24.0   past_delays     car_new  4.870000e+03   \n",
       "6            none      36.0    ok_til_now   education  9.055000e+03   \n",
       "7            none      24.0    ok_til_now   furniture  2.835000e+03   \n",
       "8            <200      36.0    ok_til_now    car_used  6.948000e+03   \n",
       "9            none      12.0    ok_til_now  television  3.059000e+03   \n",
       "\n",
       "  SavingsAccount YearsEmployed  InstallmentRate PersonalStatus OtherDebtors  \\\n",
       "0        unknown    unemployed         -10000.0  female_single         none   \n",
       "1        unknown           >=7              4.0    male_single         none   \n",
       "2           <100            <4              2.0         female         none   \n",
       "3           <100            <7              2.0    male_single         none   \n",
       "4           <100            <7              2.0    male_single    guarantor   \n",
       "5           <100            <4              3.0    male_single         none   \n",
       "6        unknown            <4              2.0    male_single         none   \n",
       "7          <1000           >=7              3.0    male_single         none   \n",
       "8           <100            <4              2.0    male_single         none   \n",
       "9         >=1000            <7              2.0  male_divorced         none   \n",
       "\n",
       "    ...       Property    Age  OtherPlans Housing NumCreditsAtBank  \\\n",
       "0   ...            car -293.0        none     own          -1000.0   \n",
       "1   ...    real_estate   67.0        none     own              2.0   \n",
       "2   ...    real_estate   22.0        none     own              1.0   \n",
       "3   ...    real_estate   49.0        none     own              1.0   \n",
       "4   ...        savings   45.0        none    free              1.0   \n",
       "5   ...        unknown   53.0        none    free              2.0   \n",
       "6   ...        unknown   35.0        none    free              1.0   \n",
       "7   ...        savings   53.0        none     own              1.0   \n",
       "8   ...            car   35.0        none    rent              1.0   \n",
       "9   ...    real_estate   61.0        none     own              1.0   \n",
       "\n",
       "          Job Dependents  Telephone Foreign Approve  \n",
       "0     skilled     -185.0        yes      no    good  \n",
       "1     skilled        1.0        yes     yes    good  \n",
       "2     skilled        1.0         no     yes     bad  \n",
       "3   unskilled        2.0         no     yes    good  \n",
       "4     skilled        2.0         no     yes    good  \n",
       "5     skilled        2.0         no     yes     bad  \n",
       "6   unskilled        2.0        yes     yes    good  \n",
       "7     skilled        1.0         no     yes    good  \n",
       "8  management        1.0        yes     yes    good  \n",
       "9   unskilled        1.0         no     yes    good  \n",
       "\n",
       "[10 rows x 21 columns]"
      ]
     },
     "execution_count": 12,
     "metadata": {},
     "output_type": "execute_result"
    }
   ],
   "source": [
    "credit.head(10)"
   ]
  },
  {
   "cell_type": "markdown",
   "metadata": {},
   "source": [
    "### ========== Question 1.4 ==========\n",
    "When presented with a dataset, it is usually a good idea to visualise it first. By using seaborn's [pairplot](https://seaborn.github.io/generated/seaborn.pairplot.html?highlight=pairplot#seaborn.pairplot) function, try visualising a scatter plot of the `Age` and `Duration` variables. You can use the `Approve` variable as the `hue` parameter to visualise results separately for each class. Do you notice anything unusual?"
   ]
  },
  {
   "cell_type": "code",
   "execution_count": 13,
   "metadata": {},
   "outputs": [
    {
     "name": "stderr",
     "output_type": "stream",
     "text": [
      "/Users/isabellacamplisson/anaconda3/envs/py3iaml/lib/python3.7/site-packages/scipy/stats/stats.py:1713: FutureWarning: Using a non-tuple sequence for multidimensional indexing is deprecated; use `arr[tuple(seq)]` instead of `arr[seq]`. In the future this will be interpreted as an array index, `arr[np.array(seq)]`, which will result either in an error or a different result.\n",
      "  return np.add.reduce(sorted[indexer] * weights, axis=axis) / sumval\n"
     ]
    },
    {
     "data": {
      "image/png": "[encoded data removed]",
      "text/plain": [
       "<Figure size 424.1x360 with 6 Axes>"
      ]
     },
     "metadata": {},
     "output_type": "display_data"
    }
   ],
   "source": [
    "sns.set()\n",
    "ax = sns.pairplot(credit, vars=(\"Age\", \"Duration\"), hue='Approve')"
   ]
  },
  {
   "cell_type": "markdown",
   "metadata": {},
   "source": [
    "***Your answer goes here:*** *There seems to be an outlier, for one datapoint theage has been recorded as negative (impossible).*"
   ]
  },
  {
   "cell_type": "markdown",
   "metadata": {},
   "source": [
    "### ========== Question 1.5 ==========\n",
    "In the previous point you should have found a data point, which seems to be corrupted, as some of its values are nonsensical. Even a single point like this can significantly affect the performance of a classifier. How do you think it would affect Decision trees? How about Naive Bayes? A good way to check this is to test the performance of each classifier before and after removing this datapoint."
   ]
  },
  {
   "cell_type": "markdown",
   "metadata": {},
   "source": [
    "***Your answer goes here:*** *Decision Trees wouldn't be effected by an outlier like this, while the Naive Bayes decision boundary could be significantly shifted.*"
   ]
  },
  {
   "cell_type": "markdown",
   "metadata": {},
   "source": [
    "### ========== Question 1.6 ==========\n",
    "Now we want to remove this instance from the dataset by using a filter. In general, we want to remove all instances, where the age of an applicant is lower than 0 years, as this suggests that the instance is corrupted. Use logical indexing to get rid of these instances without creating a new dataframe. Display the number of data points after any outliers have been removed."
   ]
  },
  {
   "cell_type": "code",
   "execution_count": 14,
   "metadata": {},
   "outputs": [
    {
     "name": "stdout",
     "output_type": "stream",
     "text": [
      "1000\n"
     ]
    }
   ],
   "source": [
    "credit = credit[credit['Age'] > 0]\n",
    "print(len(credit))"
   ]
  },
  {
   "cell_type": "markdown",
   "metadata": {},
   "source": [
    "## Categorical Data and Encoding"
   ]
  },
  {
   "cell_type": "markdown",
   "metadata": {},
   "source": [
    "### ========== Question 1.7 ==========\n",
    "\n",
    "You might have noticed that most of the attributes in the dataset are in fact discrete. Now we want to know which variables exactly are discrete (both categorical and numerical, look [here](http://stats.stackexchange.com/questions/206/what-is-the-difference-between-discrete-data-and-continuous-data) if you are unsure about the difference) and which are continuous variables. In order to do so, we will inspect the number of possible values that each attribute can take. \n",
    "\n",
    "Display the number of values each attributes takes in the dataset. *Hint: As a first step, you want to loop over the columns of the DataFrame. Then you might find the numpy `unique` function quite useful.*"
   ]
  },
  {
   "cell_type": "code",
   "execution_count": 15,
   "metadata": {},
   "outputs": [
    {
     "name": "stdout",
     "output_type": "stream",
     "text": [
      "-----------------------------------\n",
      "ATTRIBUTE           # UNIQUE     \n",
      "-----------------------------------\n",
      "CheckingAccount     4            \n",
      "Duration            33           \n",
      "CreditHistory       5            \n",
      "Purpose             10           \n",
      "CreditAmount        921          \n",
      "SavingsAccount      5            \n",
      "YearsEmployed       5            \n",
      "InstallmentRate     4            \n",
      "PersonalStatus      4            \n",
      "OtherDebtors        3            \n",
      "ResidentSince       4            \n",
      "Property            4            \n",
      "Age                 53           \n",
      "OtherPlans          3            \n",
      "Housing             3            \n",
      "NumCreditsAtBank    4            \n",
      "Job                 4            \n",
      "Dependents          2            \n",
      "Telephone           2            \n",
      "Foreign             2            \n",
      "Approve             2            \n"
     ]
    }
   ],
   "source": [
    "print('-' * 35)\n",
    "print('{:<20s}{:<13s}'.format('ATTRIBUTE','# UNIQUE'))\n",
    "print('-' * 35)\n",
    "\n",
    "for att in credit.columns:\n",
    "    unique = len(np.unique(credit[att]))\n",
    "    print('{:<20s}{:<13d}'.format(att,unique))"
   ]
  },
  {
   "cell_type": "markdown",
   "metadata": {},
   "source": [
    "It seems like the variables `Duration`, `CreditAmount` and `Age` are continuous and all the rest are discrete. The discrete variables are not in a very convenient format though. Ideally we would want the discrete attributes to take values between `0` and `n_values-1`. Pandas has a handy way of dealing with [Categorical](https://pandas.pydata.org/pandas-docs/version/0.23.4/categorical.html) data, which you are encouraged to get familiar with.\n",
    "\n",
    "We will create a new DataFrame called `credit_clean` and convert all the discrete variables from `credit` into pandas Categorical types. Remember, we want to change the discrete variables only, so we will have to exclude the `CreditAmount`, `Age` and `Duration` attributes. Also, we don't really mind if the target variable is categorical, so we won't be transforming the `Approve` attribute either. Execute the cell below and make sure you understand what it does."
   ]
  },
  {
   "cell_type": "code",
   "execution_count": 16,
   "metadata": {},
   "outputs": [],
   "source": [
    "credit_clean = credit.copy(deep=True) # Make a copy of the DataFrame\n",
    "for column in credit_clean.columns:   \n",
    "    if column not in ['CreditAmount', 'Age', 'Duration', 'Approve']: # Exclude non discrete columns and the target\n",
    "        credit_clean[column] = credit_clean[column].astype('category') # Convert using astype(...) method"
   ]
  },
  {
   "cell_type": "markdown",
   "metadata": {},
   "source": [
    "### ========== Question 1.8 ==========\n",
    "Display the first 10 data points of the clean data. Does it look like what you expected?"
   ]
  },
  {
   "cell_type": "code",
   "execution_count": 17,
   "metadata": {},
   "outputs": [
    {
     "data": {
      "text/html": [
       "<div>\n",
       "<style scoped>\n",
       "    .dataframe tbody tr th:only-of-type {\n",
       "        vertical-align: middle;\n",
       "    }\n",
       "\n",
       "    .dataframe tbody tr th {\n",
       "        vertical-align: top;\n",
       "    }\n",
       "\n",
       "    .dataframe thead th {\n",
       "        text-align: right;\n",
       "    }\n",
       "</style>\n",
       "<table border=\"1\" class=\"dataframe\">\n",
       "  <thead>\n",
       "    <tr style=\"text-align: right;\">\n",
       "      <th></th>\n",
       "      <th>CheckingAccount</th>\n",
       "      <th>Duration</th>\n",
       "      <th>CreditHistory</th>\n",
       "      <th>Purpose</th>\n",
       "      <th>CreditAmount</th>\n",
       "      <th>SavingsAccount</th>\n",
       "      <th>YearsEmployed</th>\n",
       "      <th>InstallmentRate</th>\n",
       "      <th>PersonalStatus</th>\n",
       "      <th>OtherDebtors</th>\n",
       "      <th>...</th>\n",
       "      <th>Property</th>\n",
       "      <th>Age</th>\n",
       "      <th>OtherPlans</th>\n",
       "      <th>Housing</th>\n",
       "      <th>NumCreditsAtBank</th>\n",
       "      <th>Job</th>\n",
       "      <th>Dependents</th>\n",
       "      <th>Telephone</th>\n",
       "      <th>Foreign</th>\n",
       "      <th>Approve</th>\n",
       "    </tr>\n",
       "  </thead>\n",
       "  <tbody>\n",
       "    <tr>\n",
       "      <th>1</th>\n",
       "      <td>&lt;0</td>\n",
       "      <td>6.0</td>\n",
       "      <td>critical</td>\n",
       "      <td>television</td>\n",
       "      <td>1169.0</td>\n",
       "      <td>unknown</td>\n",
       "      <td>&gt;=7</td>\n",
       "      <td>4.0</td>\n",
       "      <td>male_single</td>\n",
       "      <td>none</td>\n",
       "      <td>...</td>\n",
       "      <td>real_estate</td>\n",
       "      <td>67.0</td>\n",
       "      <td>none</td>\n",
       "      <td>own</td>\n",
       "      <td>2.0</td>\n",
       "      <td>skilled</td>\n",
       "      <td>1.0</td>\n",
       "      <td>yes</td>\n",
       "      <td>yes</td>\n",
       "      <td>good</td>\n",
       "    </tr>\n",
       "    <tr>\n",
       "      <th>2</th>\n",
       "      <td>&lt;200</td>\n",
       "      <td>48.0</td>\n",
       "      <td>ok_til_now</td>\n",
       "      <td>television</td>\n",
       "      <td>5951.0</td>\n",
       "      <td>&lt;100</td>\n",
       "      <td>&lt;4</td>\n",
       "      <td>2.0</td>\n",
       "      <td>female</td>\n",
       "      <td>none</td>\n",
       "      <td>...</td>\n",
       "      <td>real_estate</td>\n",
       "      <td>22.0</td>\n",
       "      <td>none</td>\n",
       "      <td>own</td>\n",
       "      <td>1.0</td>\n",
       "      <td>skilled</td>\n",
       "      <td>1.0</td>\n",
       "      <td>no</td>\n",
       "      <td>yes</td>\n",
       "      <td>bad</td>\n",
       "    </tr>\n",
       "    <tr>\n",
       "      <th>3</th>\n",
       "      <td>none</td>\n",
       "      <td>12.0</td>\n",
       "      <td>critical</td>\n",
       "      <td>education</td>\n",
       "      <td>2096.0</td>\n",
       "      <td>&lt;100</td>\n",
       "      <td>&lt;7</td>\n",
       "      <td>2.0</td>\n",
       "      <td>male_single</td>\n",
       "      <td>none</td>\n",
       "      <td>...</td>\n",
       "      <td>real_estate</td>\n",
       "      <td>49.0</td>\n",
       "      <td>none</td>\n",
       "      <td>own</td>\n",
       "      <td>1.0</td>\n",
       "      <td>unskilled</td>\n",
       "      <td>2.0</td>\n",
       "      <td>no</td>\n",
       "      <td>yes</td>\n",
       "      <td>good</td>\n",
       "    </tr>\n",
       "    <tr>\n",
       "      <th>4</th>\n",
       "      <td>&lt;0</td>\n",
       "      <td>42.0</td>\n",
       "      <td>ok_til_now</td>\n",
       "      <td>furniture</td>\n",
       "      <td>7882.0</td>\n",
       "      <td>&lt;100</td>\n",
       "      <td>&lt;7</td>\n",
       "      <td>2.0</td>\n",
       "      <td>male_single</td>\n",
       "      <td>guarantor</td>\n",
       "      <td>...</td>\n",
       "      <td>savings</td>\n",
       "      <td>45.0</td>\n",
       "      <td>none</td>\n",
       "      <td>free</td>\n",
       "      <td>1.0</td>\n",
       "      <td>skilled</td>\n",
       "      <td>2.0</td>\n",
       "      <td>no</td>\n",
       "      <td>yes</td>\n",
       "      <td>good</td>\n",
       "    </tr>\n",
       "    <tr>\n",
       "      <th>5</th>\n",
       "      <td>&lt;0</td>\n",
       "      <td>24.0</td>\n",
       "      <td>past_delays</td>\n",
       "      <td>car_new</td>\n",
       "      <td>4870.0</td>\n",
       "      <td>&lt;100</td>\n",
       "      <td>&lt;4</td>\n",
       "      <td>3.0</td>\n",
       "      <td>male_single</td>\n",
       "      <td>none</td>\n",
       "      <td>...</td>\n",
       "      <td>unknown</td>\n",
       "      <td>53.0</td>\n",
       "      <td>none</td>\n",
       "      <td>free</td>\n",
       "      <td>2.0</td>\n",
       "      <td>skilled</td>\n",
       "      <td>2.0</td>\n",
       "      <td>no</td>\n",
       "      <td>yes</td>\n",
       "      <td>bad</td>\n",
       "    </tr>\n",
       "    <tr>\n",
       "      <th>6</th>\n",
       "      <td>none</td>\n",
       "      <td>36.0</td>\n",
       "      <td>ok_til_now</td>\n",
       "      <td>education</td>\n",
       "      <td>9055.0</td>\n",
       "      <td>unknown</td>\n",
       "      <td>&lt;4</td>\n",
       "      <td>2.0</td>\n",
       "      <td>male_single</td>\n",
       "      <td>none</td>\n",
       "      <td>...</td>\n",
       "      <td>unknown</td>\n",
       "      <td>35.0</td>\n",
       "      <td>none</td>\n",
       "      <td>free</td>\n",
       "      <td>1.0</td>\n",
       "      <td>unskilled</td>\n",
       "      <td>2.0</td>\n",
       "      <td>yes</td>\n",
       "      <td>yes</td>\n",
       "      <td>good</td>\n",
       "    </tr>\n",
       "    <tr>\n",
       "      <th>7</th>\n",
       "      <td>none</td>\n",
       "      <td>24.0</td>\n",
       "      <td>ok_til_now</td>\n",
       "      <td>furniture</td>\n",
       "      <td>2835.0</td>\n",
       "      <td>&lt;1000</td>\n",
       "      <td>&gt;=7</td>\n",
       "      <td>3.0</td>\n",
       "      <td>male_single</td>\n",
       "      <td>none</td>\n",
       "      <td>...</td>\n",
       "      <td>savings</td>\n",
       "      <td>53.0</td>\n",
       "      <td>none</td>\n",
       "      <td>own</td>\n",
       "      <td>1.0</td>\n",
       "      <td>skilled</td>\n",
       "      <td>1.0</td>\n",
       "      <td>no</td>\n",
       "      <td>yes</td>\n",
       "      <td>good</td>\n",
       "    </tr>\n",
       "    <tr>\n",
       "      <th>8</th>\n",
       "      <td>&lt;200</td>\n",
       "      <td>36.0</td>\n",
       "      <td>ok_til_now</td>\n",
       "      <td>car_used</td>\n",
       "      <td>6948.0</td>\n",
       "      <td>&lt;100</td>\n",
       "      <td>&lt;4</td>\n",
       "      <td>2.0</td>\n",
       "      <td>male_single</td>\n",
       "      <td>none</td>\n",
       "      <td>...</td>\n",
       "      <td>car</td>\n",
       "      <td>35.0</td>\n",
       "      <td>none</td>\n",
       "      <td>rent</td>\n",
       "      <td>1.0</td>\n",
       "      <td>management</td>\n",
       "      <td>1.0</td>\n",
       "      <td>yes</td>\n",
       "      <td>yes</td>\n",
       "      <td>good</td>\n",
       "    </tr>\n",
       "    <tr>\n",
       "      <th>9</th>\n",
       "      <td>none</td>\n",
       "      <td>12.0</td>\n",
       "      <td>ok_til_now</td>\n",
       "      <td>television</td>\n",
       "      <td>3059.0</td>\n",
       "      <td>&gt;=1000</td>\n",
       "      <td>&lt;7</td>\n",
       "      <td>2.0</td>\n",
       "      <td>male_divorced</td>\n",
       "      <td>none</td>\n",
       "      <td>...</td>\n",
       "      <td>real_estate</td>\n",
       "      <td>61.0</td>\n",
       "      <td>none</td>\n",
       "      <td>own</td>\n",
       "      <td>1.0</td>\n",
       "      <td>unskilled</td>\n",
       "      <td>1.0</td>\n",
       "      <td>no</td>\n",
       "      <td>yes</td>\n",
       "      <td>good</td>\n",
       "    </tr>\n",
       "    <tr>\n",
       "      <th>10</th>\n",
       "      <td>&lt;200</td>\n",
       "      <td>30.0</td>\n",
       "      <td>critical</td>\n",
       "      <td>car_new</td>\n",
       "      <td>5234.0</td>\n",
       "      <td>&lt;100</td>\n",
       "      <td>unemployed</td>\n",
       "      <td>4.0</td>\n",
       "      <td>male_married</td>\n",
       "      <td>none</td>\n",
       "      <td>...</td>\n",
       "      <td>car</td>\n",
       "      <td>28.0</td>\n",
       "      <td>none</td>\n",
       "      <td>own</td>\n",
       "      <td>2.0</td>\n",
       "      <td>management</td>\n",
       "      <td>1.0</td>\n",
       "      <td>no</td>\n",
       "      <td>yes</td>\n",
       "      <td>bad</td>\n",
       "    </tr>\n",
       "  </tbody>\n",
       "</table>\n",
       "<p>10 rows × 21 columns</p>\n",
       "</div>"
      ],
      "text/plain": [
       "   CheckingAccount  Duration CreditHistory     Purpose  CreditAmount  \\\n",
       "1               <0       6.0      critical  television        1169.0   \n",
       "2             <200      48.0    ok_til_now  television        5951.0   \n",
       "3             none      12.0      critical   education        2096.0   \n",
       "4               <0      42.0    ok_til_now   furniture        7882.0   \n",
       "5               <0      24.0   past_delays     car_new        4870.0   \n",
       "6             none      36.0    ok_til_now   education        9055.0   \n",
       "7             none      24.0    ok_til_now   furniture        2835.0   \n",
       "8             <200      36.0    ok_til_now    car_used        6948.0   \n",
       "9             none      12.0    ok_til_now  television        3059.0   \n",
       "10            <200      30.0      critical     car_new        5234.0   \n",
       "\n",
       "   SavingsAccount YearsEmployed InstallmentRate PersonalStatus OtherDebtors  \\\n",
       "1         unknown           >=7             4.0    male_single         none   \n",
       "2            <100            <4             2.0         female         none   \n",
       "3            <100            <7             2.0    male_single         none   \n",
       "4            <100            <7             2.0    male_single    guarantor   \n",
       "5            <100            <4             3.0    male_single         none   \n",
       "6         unknown            <4             2.0    male_single         none   \n",
       "7           <1000           >=7             3.0    male_single         none   \n",
       "8            <100            <4             2.0    male_single         none   \n",
       "9          >=1000            <7             2.0  male_divorced         none   \n",
       "10           <100    unemployed             4.0   male_married         none   \n",
       "\n",
       "     ...       Property   Age  OtherPlans Housing NumCreditsAtBank  \\\n",
       "1    ...    real_estate  67.0        none     own              2.0   \n",
       "2    ...    real_estate  22.0        none     own              1.0   \n",
       "3    ...    real_estate  49.0        none     own              1.0   \n",
       "4    ...        savings  45.0        none    free              1.0   \n",
       "5    ...        unknown  53.0        none    free              2.0   \n",
       "6    ...        unknown  35.0        none    free              1.0   \n",
       "7    ...        savings  53.0        none     own              1.0   \n",
       "8    ...            car  35.0        none    rent              1.0   \n",
       "9    ...    real_estate  61.0        none     own              1.0   \n",
       "10   ...            car  28.0        none     own              2.0   \n",
       "\n",
       "           Job Dependents Telephone Foreign Approve  \n",
       "1      skilled        1.0       yes     yes    good  \n",
       "2      skilled        1.0        no     yes     bad  \n",
       "3    unskilled        2.0        no     yes    good  \n",
       "4      skilled        2.0        no     yes    good  \n",
       "5      skilled        2.0        no     yes     bad  \n",
       "6    unskilled        2.0       yes     yes    good  \n",
       "7      skilled        1.0        no     yes    good  \n",
       "8   management        1.0       yes     yes    good  \n",
       "9    unskilled        1.0        no     yes    good  \n",
       "10  management        1.0        no     yes     bad  \n",
       "\n",
       "[10 rows x 21 columns]"
      ]
     },
     "execution_count": 17,
     "metadata": {},
     "output_type": "execute_result"
    }
   ],
   "source": [
    "credit_clean.head(10)"
   ]
  },
  {
   "cell_type": "markdown",
   "metadata": {},
   "source": [
    "### ========== Question 1.9 ==========\n",
    "\n",
    "There is a **conceptual** problem with using an (unordered) categorical input to train a decision tree. Can you figure it out? *Hint*: Look at the data-types supported by the `DecisionTreeClassifier`, specifically the input to the [fit](http://scikit-learn.org/0.19/modules/generated/sklearn.tree.DecisionTreeClassifier.html#sklearn.tree.DecisionTreeClassifier.fit) method."
   ]
  },
  {
   "cell_type": "markdown",
   "metadata": {},
   "source": [
    "***Your answer goes here:*** *The data isn't binary, so a threshold would usually be used, however the data is unordered so a threshold doesn't really have any meaning here. Also, fit only takes float-type data.*"
   ]
  },
  {
   "cell_type": "markdown",
   "metadata": {},
   "source": [
    "### ========== Question 1.10 ==========\n",
    "\n",
    "Let us then convert the categorical values we just created into a one-hot-encoding. Pandas provides this functionality conveniently via the [`get_dummies`](https://pandas.pydata.org/pandas-docs/version/0.23.4/generated/pandas.get_dummies.html) method. Use it to generate a matrix `X` containing the one-hot encoded categorical features as well as the floating-point attributes (`CreditAmount`, `Age` and `Duration`). Also, (separately) extract the target variable (`Approve`) into a vector `y`. In each case, display the shape of the matrix/vector `X` and `y`. \n",
    "\n",
    "*TIP: It will be useful to keep track of the column names in the new one-hot-encoded format for later.*"
   ]
  },
  {
   "cell_type": "code",
   "execution_count": 18,
   "metadata": {},
   "outputs": [
    {
     "name": "stdout",
     "output_type": "stream",
     "text": [
      "<class 'pandas.core.frame.DataFrame'>\n",
      "Int64Index: 1000 entries, 1 to 1000\n",
      "Data columns (total 21 columns):\n",
      "CheckingAccount     1000 non-null category\n",
      "Duration            1000 non-null float64\n",
      "CreditHistory       1000 non-null category\n",
      "Purpose             1000 non-null category\n",
      "CreditAmount        1000 non-null float64\n",
      "SavingsAccount      1000 non-null category\n",
      "YearsEmployed       1000 non-null category\n",
      "InstallmentRate     1000 non-null category\n",
      "PersonalStatus      1000 non-null category\n",
      "OtherDebtors        1000 non-null category\n",
      "ResidentSince       1000 non-null category\n",
      "Property            1000 non-null category\n",
      "Age                 1000 non-null float64\n",
      "OtherPlans          1000 non-null category\n",
      "Housing             1000 non-null category\n",
      "NumCreditsAtBank    1000 non-null category\n",
      "Job                 1000 non-null category\n",
      "Dependents          1000 non-null category\n",
      "Telephone           1000 non-null category\n",
      "Foreign             1000 non-null category\n",
      "Approve             1000 non-null object\n",
      "dtypes: category(17), float64(3), object(1)\n",
      "memory usage: 58.5+ KB\n"
     ]
    }
   ],
   "source": [
    "credit_clean.info()"
   ]
  },
  {
   "cell_type": "code",
   "execution_count": 29,
   "metadata": {},
   "outputs": [],
   "source": [
    "X = pd.get_dummies(credit_clean.drop('Approve', axis=1))\n",
    "X.shape\n",
    "column_names = X.columns"
   ]
  },
  {
   "cell_type": "code",
   "execution_count": 20,
   "metadata": {},
   "outputs": [
    {
     "data": {
      "text/plain": [
       "(1000,)"
      ]
     },
     "execution_count": 20,
     "metadata": {},
     "output_type": "execute_result"
    }
   ],
   "source": [
    "y = credit_clean['Approve']\n",
    "y.shape"
   ]
  },
  {
   "cell_type": "markdown",
   "metadata": {},
   "source": [
    "(Confirm that you have 71 input features, one target variable and 1000 data points). *Bonus Question*: where did the 71 come from? *71 is the sum of the number of unique values for the categorical data, plus 3 (each non-categorical column)*"
   ]
  },
  {
   "cell_type": "markdown",
   "metadata": {},
   "source": [
    "## Hold-out validation\n",
    "In the next step we will be using a Decision Tree classifier model. To get an accurate estimate of the model's classification performance we will use hold-out validation. Familiriase yourself with the logic behind [`train_test_split CV`](http://scikit-learn.org/0.19/modules/cross_validation.html#cross-validation-evaluating-estimator-performance) (also called `Hold-out` validation) and [how it is used](http://scikit-learn.org/0.19/modules/generated/sklearn.cross_validation.train_test_split.html) in `Scikit-learn`. Execute the cell below to create your training/testing sets by assigning 10% of the data to the test set (and convince yourself you understand what is going on)."
   ]
  },
  {
   "cell_type": "code",
   "execution_count": 21,
   "metadata": {},
   "outputs": [],
   "source": [
    "X_train, X_test, y_train, y_test = train_test_split(X, y, train_size = 0.9, test_size=0.1, random_state=0)"
   ]
  },
  {
   "cell_type": "markdown",
   "metadata": {},
   "source": [
    "### ========== Question 1.11 ==========\n",
    "Confirm that `X_train` and `X_test` matrices are subsets of `X` by displaying the number of rows in the three matrices (no need to make use of set theory)."
   ]
  },
  {
   "cell_type": "code",
   "execution_count": 22,
   "metadata": {},
   "outputs": [
    {
     "name": "stdout",
     "output_type": "stream",
     "text": [
      "1000\n",
      "900\n",
      "100\n"
     ]
    }
   ],
   "source": [
    "print(len(X))\n",
    "print(len(X_train))\n",
    "print(len(X_test))"
   ]
  },
  {
   "cell_type": "markdown",
   "metadata": {},
   "source": [
    "### ========== Question 1.12 ==========\n",
    "Now we will train a Decision Tree classifier on the training data. Read about [Decision Tree classifiers](http://scikit-learn.org/0.19/modules/tree.html) in `Scikit-learn` and how they are [used](http://scikit-learn.org/0.19/modules/generated/sklearn.tree.DecisionTreeClassifier.html#sklearn.tree.DecisionTreeClassifier). \n",
    "Create a `DecisionTreeClassifier` instance, naming it `dt` and train it by using training data only (i.e. `X_train` and `y_train`). Set the `criterion` attribute to `entropy` in order to measure the quality of splits by using the information gain. Use the default settings for the rest of parameters. By default, trees are grown to full depth; this means that very fine splits are made involving very few data points. Not only does this make the trees hard to visualise (they'll be deep), but also we could be overfitting the data. For now, we arbitrarily choose a depth of 2 for our tree (to make it easier to interpret below), but this is a parameter we could tune. For consistency, use a `random_state=1000`."
   ]
  },
  {
   "cell_type": "code",
   "execution_count": 68,
   "metadata": {},
   "outputs": [
    {
     "data": {
      "text/plain": [
       "DecisionTreeClassifier(class_weight=None, criterion='entropy', max_depth=2,\n",
       "            max_features=None, max_leaf_nodes=None,\n",
       "            min_impurity_decrease=0.0, min_impurity_split=None,\n",
       "            min_samples_leaf=1, min_samples_split=2,\n",
       "            min_weight_fraction_leaf=0.0, presort=False, random_state=1000,\n",
       "            splitter='best')"
      ]
     },
     "execution_count": 68,
     "metadata": {},
     "output_type": "execute_result"
    }
   ],
   "source": [
    "dt = DecisionTreeClassifier(criterion='entropy', random_state=1000, max_depth=2)\n",
    "dt.fit(X_train, y_train)"
   ]
  },
  {
   "cell_type": "markdown",
   "metadata": {},
   "source": [
    "We have mentioned in the class that decision trees have the advantage of being interpretable by humans. Now we visualise the decision tree we have just trained. Scikit-learn can export the tree in a `.dot` format. Run the following code (replace `column_names` with whatever you used to store the names of the columns of the extended feature-space):"
   ]
  },
  {
   "cell_type": "code",
   "execution_count": 69,
   "metadata": {},
   "outputs": [
    {
     "data": {
      "image/svg+xml": [
       "<?xml version=\"1.0\" encoding=\"UTF-8\" standalone=\"no\"?>\n",
       "<!DOCTYPE svg PUBLIC \"-//W3C//DTD SVG 1.1//EN\"\n",
       " \"http://www.w3.org/Graphics/SVG/1.1/DTD/svg11.dtd\">\n",
       "<!-- Generated by graphviz version 2.40.1 (20161225.0304)\n",
       " -->\n",
       "<!-- Title: Tree Pages: 1 -->\n",
       "<svg width=\"552pt\" height=\"314pt\"\n",
       " viewBox=\"0.00 0.00 552.00 314.00\" xmlns=\"http://www.w3.org/2000/svg\" xmlns:xlink=\"http://www.w3.org/1999/xlink\">\n",
       "<g id=\"graph0\" class=\"graph\" transform=\"scale(1 1) rotate(0) translate(4 310)\">\n",
       "<title>Tree</title>\n",
       "<polygon fill=\"#ffffff\" stroke=\"transparent\" points=\"-4,4 -4,-310 548,-310 548,4 -4,4\"/>\n",
       "<!-- 0 -->\n",
       "<g id=\"node1\" class=\"node\">\n",
       "<title>0</title>\n",
       "<path fill=\"#399de5\" fill-opacity=\"0.560784\" stroke=\"#000000\" d=\"M364,-306C364,-306 180,-306 180,-306 174,-306 168,-300 168,-294 168,-294 168,-235 168,-235 168,-229 174,-223 180,-223 180,-223 364,-223 364,-223 370,-223 376,-229 376,-235 376,-235 376,-294 376,-294 376,-300 370,-306 364,-306\"/>\n",
       "<text text-anchor=\"middle\" x=\"272\" y=\"-290.8\" font-family=\"Helvetica,sans-Serif\" font-size=\"14.00\" fill=\"#000000\">CheckingAccount_none &lt;= 0.5</text>\n",
       "<text text-anchor=\"middle\" x=\"272\" y=\"-275.8\" font-family=\"Helvetica,sans-Serif\" font-size=\"14.00\" fill=\"#000000\">entropy = 0.888</text>\n",
       "<text text-anchor=\"middle\" x=\"272\" y=\"-260.8\" font-family=\"Helvetica,sans-Serif\" font-size=\"14.00\" fill=\"#000000\">samples = 900</text>\n",
       "<text text-anchor=\"middle\" x=\"272\" y=\"-245.8\" font-family=\"Helvetica,sans-Serif\" font-size=\"14.00\" fill=\"#000000\">value = [275, 625]</text>\n",
       "<text text-anchor=\"middle\" x=\"272\" y=\"-230.8\" font-family=\"Helvetica,sans-Serif\" font-size=\"14.00\" fill=\"#000000\">class = bad</text>\n",
       "</g>\n",
       "<!-- 1 -->\n",
       "<g id=\"node2\" class=\"node\">\n",
       "<title>1</title>\n",
       "<path fill=\"#399de5\" fill-opacity=\"0.250980\" stroke=\"#000000\" d=\"M241,-187C241,-187 137,-187 137,-187 131,-187 125,-181 125,-175 125,-175 125,-116 125,-116 125,-110 131,-104 137,-104 137,-104 241,-104 241,-104 247,-104 253,-110 253,-116 253,-116 253,-175 253,-175 253,-181 247,-187 241,-187\"/>\n",
       "<text text-anchor=\"middle\" x=\"189\" y=\"-171.8\" font-family=\"Helvetica,sans-Serif\" font-size=\"14.00\" fill=\"#000000\">Duration &lt;= 11.5</text>\n",
       "<text text-anchor=\"middle\" x=\"189\" y=\"-156.8\" font-family=\"Helvetica,sans-Serif\" font-size=\"14.00\" fill=\"#000000\">entropy = 0.985</text>\n",
       "<text text-anchor=\"middle\" x=\"189\" y=\"-141.8\" font-family=\"Helvetica,sans-Serif\" font-size=\"14.00\" fill=\"#000000\">samples = 544</text>\n",
       "<text text-anchor=\"middle\" x=\"189\" y=\"-126.8\" font-family=\"Helvetica,sans-Serif\" font-size=\"14.00\" fill=\"#000000\">value = [233, 311]</text>\n",
       "<text text-anchor=\"middle\" x=\"189\" y=\"-111.8\" font-family=\"Helvetica,sans-Serif\" font-size=\"14.00\" fill=\"#000000\">class = bad</text>\n",
       "</g>\n",
       "<!-- 0&#45;&gt;1 -->\n",
       "<g id=\"edge1\" class=\"edge\">\n",
       "<title>0&#45;&gt;1</title>\n",
       "<path fill=\"none\" stroke=\"#000000\" d=\"M242.9706,-222.8796C236.8145,-214.0534 230.2549,-204.6485 223.9064,-195.5466\"/>\n",
       "<polygon fill=\"#000000\" stroke=\"#000000\" points=\"226.7448,-193.4978 218.1533,-187.2981 221.0033,-197.5024 226.7448,-193.4978\"/>\n",
       "<text text-anchor=\"middle\" x=\"213.7669\" y=\"-208.2103\" font-family=\"Helvetica,sans-Serif\" font-size=\"14.00\" fill=\"#000000\">True</text>\n",
       "</g>\n",
       "<!-- 4 -->\n",
       "<g id=\"node5\" class=\"node\">\n",
       "<title>4</title>\n",
       "<path fill=\"#399de5\" fill-opacity=\"0.866667\" stroke=\"#000000\" d=\"M428.5,-187C428.5,-187 283.5,-187 283.5,-187 277.5,-187 271.5,-181 271.5,-175 271.5,-175 271.5,-116 271.5,-116 271.5,-110 277.5,-104 283.5,-104 283.5,-104 428.5,-104 428.5,-104 434.5,-104 440.5,-110 440.5,-116 440.5,-116 440.5,-175 440.5,-175 440.5,-181 434.5,-187 428.5,-187\"/>\n",
       "<text text-anchor=\"middle\" x=\"356\" y=\"-171.8\" font-family=\"Helvetica,sans-Serif\" font-size=\"14.00\" fill=\"#000000\">OtherPlans_none &lt;= 0.5</text>\n",
       "<text text-anchor=\"middle\" x=\"356\" y=\"-156.8\" font-family=\"Helvetica,sans-Serif\" font-size=\"14.00\" fill=\"#000000\">entropy = 0.524</text>\n",
       "<text text-anchor=\"middle\" x=\"356\" y=\"-141.8\" font-family=\"Helvetica,sans-Serif\" font-size=\"14.00\" fill=\"#000000\">samples = 356</text>\n",
       "<text text-anchor=\"middle\" x=\"356\" y=\"-126.8\" font-family=\"Helvetica,sans-Serif\" font-size=\"14.00\" fill=\"#000000\">value = [42, 314]</text>\n",
       "<text text-anchor=\"middle\" x=\"356\" y=\"-111.8\" font-family=\"Helvetica,sans-Serif\" font-size=\"14.00\" fill=\"#000000\">class = bad</text>\n",
       "</g>\n",
       "<!-- 0&#45;&gt;4 -->\n",
       "<g id=\"edge4\" class=\"edge\">\n",
       "<title>0&#45;&gt;4</title>\n",
       "<path fill=\"none\" stroke=\"#000000\" d=\"M301.3791,-222.8796C307.6094,-214.0534 314.2481,-204.6485 320.673,-195.5466\"/>\n",
       "<polygon fill=\"#000000\" stroke=\"#000000\" points=\"323.588,-197.4862 326.4955,-187.2981 317.8692,-193.4494 323.588,-197.4862\"/>\n",
       "<text text-anchor=\"middle\" x=\"330.7432\" y=\"-208.2346\" font-family=\"Helvetica,sans-Serif\" font-size=\"14.00\" fill=\"#000000\">False</text>\n",
       "</g>\n",
       "<!-- 2 -->\n",
       "<g id=\"node3\" class=\"node\">\n",
       "<title>2</title>\n",
       "<path fill=\"#399de5\" fill-opacity=\"0.741176\" stroke=\"#000000\" d=\"M102,-68C102,-68 12,-68 12,-68 6,-68 0,-62 0,-56 0,-56 0,-12 0,-12 0,-6 6,0 12,0 12,0 102,0 102,0 108,0 114,-6 114,-12 114,-12 114,-56 114,-56 114,-62 108,-68 102,-68\"/>\n",
       "<text text-anchor=\"middle\" x=\"57\" y=\"-52.8\" font-family=\"Helvetica,sans-Serif\" font-size=\"14.00\" fill=\"#000000\">entropy = 0.735</text>\n",
       "<text text-anchor=\"middle\" x=\"57\" y=\"-37.8\" font-family=\"Helvetica,sans-Serif\" font-size=\"14.00\" fill=\"#000000\">samples = 92</text>\n",
       "<text text-anchor=\"middle\" x=\"57\" y=\"-22.8\" font-family=\"Helvetica,sans-Serif\" font-size=\"14.00\" fill=\"#000000\">value = [19, 73]</text>\n",
       "<text text-anchor=\"middle\" x=\"57\" y=\"-7.8\" font-family=\"Helvetica,sans-Serif\" font-size=\"14.00\" fill=\"#000000\">class = bad</text>\n",
       "</g>\n",
       "<!-- 1&#45;&gt;2 -->\n",
       "<g id=\"edge2\" class=\"edge\">\n",
       "<title>1&#45;&gt;2</title>\n",
       "<path fill=\"none\" stroke=\"#000000\" d=\"M139.8481,-103.9815C128.5324,-94.4232 116.5087,-84.2668 105.2325,-74.7419\"/>\n",
       "<polygon fill=\"#000000\" stroke=\"#000000\" points=\"107.4612,-72.0429 97.5633,-68.2637 102.9441,-77.3904 107.4612,-72.0429\"/>\n",
       "</g>\n",
       "<!-- 3 -->\n",
       "<g id=\"node4\" class=\"node\">\n",
       "<title>3</title>\n",
       "<path fill=\"#399de5\" fill-opacity=\"0.101961\" stroke=\"#000000\" d=\"M248,-68C248,-68 144,-68 144,-68 138,-68 132,-62 132,-56 132,-56 132,-12 132,-12 132,-6 138,0 144,0 144,0 248,0 248,0 254,0 260,-6 260,-12 260,-12 260,-56 260,-56 260,-62 254,-68 248,-68\"/>\n",
       "<text text-anchor=\"middle\" x=\"196\" y=\"-52.8\" font-family=\"Helvetica,sans-Serif\" font-size=\"14.00\" fill=\"#000000\">entropy = 0.998</text>\n",
       "<text text-anchor=\"middle\" x=\"196\" y=\"-37.8\" font-family=\"Helvetica,sans-Serif\" font-size=\"14.00\" fill=\"#000000\">samples = 452</text>\n",
       "<text text-anchor=\"middle\" x=\"196\" y=\"-22.8\" font-family=\"Helvetica,sans-Serif\" font-size=\"14.00\" fill=\"#000000\">value = [214, 238]</text>\n",
       "<text text-anchor=\"middle\" x=\"196\" y=\"-7.8\" font-family=\"Helvetica,sans-Serif\" font-size=\"14.00\" fill=\"#000000\">class = bad</text>\n",
       "</g>\n",
       "<!-- 1&#45;&gt;3 -->\n",
       "<g id=\"edge3\" class=\"edge\">\n",
       "<title>1&#45;&gt;3</title>\n",
       "<path fill=\"none\" stroke=\"#000000\" d=\"M191.6065,-103.9815C192.1316,-95.618 192.6854,-86.7965 193.2163,-78.3409\"/>\n",
       "<polygon fill=\"#000000\" stroke=\"#000000\" points=\"196.7154,-78.4634 193.8489,-68.2637 189.7291,-78.0247 196.7154,-78.4634\"/>\n",
       "</g>\n",
       "<!-- 5 -->\n",
       "<g id=\"node6\" class=\"node\">\n",
       "<title>5</title>\n",
       "<path fill=\"#399de5\" fill-opacity=\"0.552941\" stroke=\"#000000\" d=\"M394,-68C394,-68 304,-68 304,-68 298,-68 292,-62 292,-56 292,-56 292,-12 292,-12 292,-6 298,0 304,0 304,0 394,0 394,0 400,0 406,-6 406,-12 406,-12 406,-56 406,-56 406,-62 400,-68 394,-68\"/>\n",
       "<text text-anchor=\"middle\" x=\"349\" y=\"-52.8\" font-family=\"Helvetica,sans-Serif\" font-size=\"14.00\" fill=\"#000000\">entropy = 0.892</text>\n",
       "<text text-anchor=\"middle\" x=\"349\" y=\"-37.8\" font-family=\"Helvetica,sans-Serif\" font-size=\"14.00\" fill=\"#000000\">samples = 55</text>\n",
       "<text text-anchor=\"middle\" x=\"349\" y=\"-22.8\" font-family=\"Helvetica,sans-Serif\" font-size=\"14.00\" fill=\"#000000\">value = [17, 38]</text>\n",
       "<text text-anchor=\"middle\" x=\"349\" y=\"-7.8\" font-family=\"Helvetica,sans-Serif\" font-size=\"14.00\" fill=\"#000000\">class = bad</text>\n",
       "</g>\n",
       "<!-- 4&#45;&gt;5 -->\n",
       "<g id=\"edge5\" class=\"edge\">\n",
       "<title>4&#45;&gt;5</title>\n",
       "<path fill=\"none\" stroke=\"#000000\" d=\"M353.3935,-103.9815C352.8684,-95.618 352.3146,-86.7965 351.7837,-78.3409\"/>\n",
       "<polygon fill=\"#000000\" stroke=\"#000000\" points=\"355.2709,-78.0247 351.1511,-68.2637 348.2846,-78.4634 355.2709,-78.0247\"/>\n",
       "</g>\n",
       "<!-- 6 -->\n",
       "<g id=\"node7\" class=\"node\">\n",
       "<title>6</title>\n",
       "<path fill=\"#399de5\" fill-opacity=\"0.909804\" stroke=\"#000000\" d=\"M532,-68C532,-68 436,-68 436,-68 430,-68 424,-62 424,-56 424,-56 424,-12 424,-12 424,-6 430,0 436,0 436,0 532,0 532,0 538,0 544,-6 544,-12 544,-12 544,-56 544,-56 544,-62 538,-68 532,-68\"/>\n",
       "<text text-anchor=\"middle\" x=\"484\" y=\"-52.8\" font-family=\"Helvetica,sans-Serif\" font-size=\"14.00\" fill=\"#000000\">entropy = 0.413</text>\n",
       "<text text-anchor=\"middle\" x=\"484\" y=\"-37.8\" font-family=\"Helvetica,sans-Serif\" font-size=\"14.00\" fill=\"#000000\">samples = 301</text>\n",
       "<text text-anchor=\"middle\" x=\"484\" y=\"-22.8\" font-family=\"Helvetica,sans-Serif\" font-size=\"14.00\" fill=\"#000000\">value = [25, 276]</text>\n",
       "<text text-anchor=\"middle\" x=\"484\" y=\"-7.8\" font-family=\"Helvetica,sans-Serif\" font-size=\"14.00\" fill=\"#000000\">class = bad</text>\n",
       "</g>\n",
       "<!-- 4&#45;&gt;6 -->\n",
       "<g id=\"edge6\" class=\"edge\">\n",
       "<title>4&#45;&gt;6</title>\n",
       "<path fill=\"none\" stroke=\"#000000\" d=\"M403.6625,-103.9815C414.5297,-94.5151 426.0705,-84.462 436.9135,-75.0168\"/>\n",
       "<polygon fill=\"#000000\" stroke=\"#000000\" points=\"439.4245,-77.4712 444.6659,-68.2637 434.8266,-72.1929 439.4245,-77.4712\"/>\n",
       "</g>\n",
       "</g>\n",
       "</svg>\n"
      ],
      "text/plain": [
       "<graphviz.files.Source at 0x1a175a46d0>"
      ]
     },
     "execution_count": 69,
     "metadata": {},
     "output_type": "execute_result"
    }
   ],
   "source": [
    "dot_data = export_graphviz(dt, out_file=None, \n",
    "    feature_names=column_names,  \n",
    "    class_names=credit_clean['Approve'].unique(),  \n",
    "    filled=True, rounded=True,  \n",
    "    special_characters=False)\n",
    "graph = graphviz.Source(dot_data)\n",
    "graph"
   ]
  },
  {
   "cell_type": "markdown",
   "metadata": {},
   "source": [
    "An alternative way to visualise the tree is to open the output .dot file with an editor such as [this online .dot renderer](http://dreampuf.github.io/GraphvizOnline/). You can use the code below to create a dot-file and then copy and paste its contents into the online site (you can double click on the tree once it has been produced to view it in full screen)."
   ]
  },
  {
   "cell_type": "code",
   "execution_count": 70,
   "metadata": {},
   "outputs": [],
   "source": [
    "with open(\"tree.dot\", 'w') as f:\n",
    "    f = export_graphviz(dt, out_file=f,\n",
    "                        feature_names=column_names,  \n",
    "                        class_names=credit_clean['Approve'].unique(),  \n",
    "                        filled=True, rounded=True,  \n",
    "                        special_characters=False)"
   ]
  },
  {
   "cell_type": "markdown",
   "metadata": {},
   "source": [
    "### ========== Question 1.13 ==========\n",
    "Inspect the tree and\n",
    " 1. describe what it shows, explaining how you interpret any one-hot encoded data\n",
    " 1. indicate which is the attribute with the highest information gain."
   ]
  },
  {
   "cell_type": "markdown",
   "metadata": {},
   "source": [
    "***Your answer goes here:*** *The tree shows the different nodes and within each node is shown the amount of entropy from that attribute, the number of samples, the number of 'good' and 'bad' samples, and the class decided by the majority. The one-hot-encoded data is shown as threshold values that splits occur over. the attribute with he highest information gain is CheckingAccount_none as this is the topmost node.*"
   ]
  },
  {
   "cell_type": "markdown",
   "metadata": {},
   "source": [
    "### ========== Question 1.14 ==========\n",
    "Tree-based estimators (i.e. decision trees and random forests) can be used to compute feature importances. The importance of a feature is computed as the (normalized) total reduction of entropy (or other used `criterion`) brought by that feature. Find the relevant attributes of the classifier you just trained (i.e. those which are actually used in this short tree) and display feature importances along with their names."
   ]
  },
  {
   "cell_type": "code",
   "execution_count": 71,
   "metadata": {},
   "outputs": [
    {
     "name": "stdout",
     "output_type": "stream",
     "text": [
      "importance of Duration = 0.16073405056934223\n",
      "importance of CheckingAccount_none = 0.7176194261140465\n",
      "importance of OtherPlans_none = 0.12164652331661123\n"
     ]
    }
   ],
   "source": [
    "imp = dt.feature_importances_\n",
    "for i in range(len(imp)):\n",
    "    if imp[i] != 0:\n",
    "        print('importance of ' + X_train.columns[i] + ' = ' + str(imp[i]))"
   ]
  },
  {
   "cell_type": "markdown",
   "metadata": {},
   "source": [
    "### ========== Question 1.15 ==========\n",
    "Now we want to evaluate the performance of the classifier on unseen data. Use the trained model to predict the target variables for the test data set. Display the classification accuracy for both the training and test data sets. What do you observe? Are you surprised by the results?"
   ]
  },
  {
   "cell_type": "code",
   "execution_count": 72,
   "metadata": {},
   "outputs": [
    {
     "name": "stdout",
     "output_type": "stream",
     "text": [
      "training accuracy = 0.6944444444444444, validation accuracy = 0.75\n"
     ]
    }
   ],
   "source": [
    "pred_train = dt.predict(X_train)\n",
    "pred_val = dt.predict(X_test)\n",
    "acc_train = accuracy_score(y_train, pred_train)\n",
    "acc_val = accuracy_score(y_test, pred_val)\n",
    "print(\"training accuracy = \" + str(acc_train) + \", validation accuracy = \" + str(acc_val))"
   ]
  },
  {
   "cell_type": "markdown",
   "metadata": {},
   "source": [
    "*The classification accuracy is greater on the validation set than on the training set. This is bizarre and must be due to the fact that the classifier always outputs 'good' as a response (see decision tree diagram).*\n",
    "\n",
    "The decision tree classifier is (probably) not overfitting. The classification accuracy is similar for training and test. The decision tree has provided a very simple way to interpret the data - splitting it into 8 bins and applying a class to each bin. Clearly this is an oversimplification: even in the training data, the leaves of the tree contain many examples of the 'incorrect' class."
   ]
  },
  {
   "cell_type": "markdown",
   "metadata": {},
   "source": [
    "**However, the very astute will make an observation:** *Hint: Have a look at the class distribution in the dataset.*"
   ]
  },
  {
   "cell_type": "code",
   "execution_count": 73,
   "metadata": {},
   "outputs": [
    {
     "data": {
      "image/png": "[encoded data removed]",
      "text/plain": [
       "<Figure size 576x288 with 2 Axes>"
      ]
     },
     "metadata": {},
     "output_type": "display_data"
    }
   ],
   "source": [
    "fig, (ax1, ax2) = plt.subplots(1,2, figsize=(8,4))\n",
    "sns.countplot(y_train, ax=ax1)\n",
    "ax1.set_title('Training set', size=12)\n",
    "ax1.set_xlabel(' ')\n",
    "sns.countplot(y_test, ax=ax2)\n",
    "ax2.set_xlabel(' ')\n",
    "ax2.set_ylabel('')\n",
    "ax2.set_title('Validation set', size=12)\n",
    "fig.suptitle('Target distribution', size=12)\n",
    "plt.show()"
   ]
  },
  {
   "cell_type": "markdown",
   "metadata": {},
   "source": [
    "The dummy classifier of predicting everything as 'good' **will beat this model (75% accuracy on Validation Set)!** In other words, our model is worse than the baseline. **Always compare your models with very simple baselines**."
   ]
  },
  {
   "cell_type": "markdown",
   "metadata": {},
   "source": [
    "### ========== Question 1.16 ==========\n",
    "\n",
    "Fit another `DecisionTreeClassifier` but this time grow it to full depth (i.e. remove the max_depth condition). Again, use a `random_state=1000`. Display the classification accuracy for training and test data as above. Again, what do you observe and are you surprised?"
   ]
  },
  {
   "cell_type": "code",
   "execution_count": 74,
   "metadata": {},
   "outputs": [
    {
     "name": "stdout",
     "output_type": "stream",
     "text": [
      "training accuracy = 1.0, validation accuracy = 0.67\n"
     ]
    }
   ],
   "source": [
    "dt = DecisionTreeClassifier(criterion='entropy', random_state=1000)\n",
    "dt.fit(X_train, y_train)\n",
    "pred_train = dt.predict(X_train)\n",
    "pred_val = dt.predict(X_test)\n",
    "acc_train = accuracy_score(y_train, pred_train)\n",
    "acc_val = accuracy_score(y_test, pred_val)\n",
    "print(\"training accuracy = \" + str(acc_train) + \", validation accuracy = \" + str(acc_val))"
   ]
  },
  {
   "cell_type": "markdown",
   "metadata": {},
   "source": [
    "***Your answer goes here:*** *This is not surprising. A full depth decision tree will perfectly classify the training data but will be too overfitted to give good accuracy on the validation set.*"
   ]
  },
  {
   "cell_type": "markdown",
   "metadata": {},
   "source": [
    "### ========== Question 1.17 ==========\n",
    "By using seaborn's heatmap function, plot the normalised confusion matrices for both the training and test data sets **for the max_depth=3 decision tree from question 1.12**. Make sure you label axes appropriately. *Hint: You can make use of the `plot_confusion_matrix` function introduced in a previous lab, reproduced below.*"
   ]
  },
  {
   "cell_type": "code",
   "execution_count": 75,
   "metadata": {},
   "outputs": [],
   "source": [
    "def plot_confusion_matrix(cm, classes=None, title='Confusion matrix'):\n",
    "    \"\"\"Plots a confusion matrix.\"\"\"\n",
    "    if classes is not None:\n",
    "        sns.heatmap(cm, xticklabels=classes, yticklabels=classes, vmin=0., vmax=1., annot=True)\n",
    "    else:\n",
    "        sns.heatmap(cm, vmin=0., vmax=1.)\n",
    "    plt.title(title)\n",
    "    plt.ylabel('True label')\n",
    "    plt.xlabel('Predicted label')"
   ]
  },
  {
   "cell_type": "code",
   "execution_count": 84,
   "metadata": {},
   "outputs": [
    {
     "data": {
      "image/png": "[encoded data removed]",
      "text/plain": [
       "<Figure size 432x288 with 2 Axes>"
      ]
     },
     "metadata": {},
     "output_type": "display_data"
    }
   ],
   "source": [
    "dt = DecisionTreeClassifier(criterion='entropy', random_state=1000, max_depth=3)\n",
    "dt.fit(X_train, y_train)\n",
    "pred_train = dt.predict(X_train)\n",
    "pred_val = dt.predict(X_test)\n",
    "\n",
    "# Test Data\n",
    "conf = confusion_matrix(y_train, pred_train)\n",
    "norm_conf = conf/[[sum(conf[0])], [sum(conf[1])]]\n",
    "plot_confusion_matrix(norm_conf)"
   ]
  },
  {
   "cell_type": "code",
   "execution_count": 85,
   "metadata": {},
   "outputs": [
    {
     "data": {
      "image/png": "[encoded data removed]",
      "text/plain": [
       "<Figure size 432x288 with 2 Axes>"
      ]
     },
     "metadata": {},
     "output_type": "display_data"
    }
   ],
   "source": [
    "# Validation Data\n",
    "conf = confusion_matrix(y_test, pred_val)\n",
    "norm_conf = conf/[[sum(conf[0])], [sum(conf[1])]]\n",
    "plot_confusion_matrix(norm_conf)"
   ]
  },
  {
   "cell_type": "markdown",
   "metadata": {},
   "source": [
    "**N.B. it will be obvious if you have plotted the full depth decision tree as the training confusion matrix will be the identity**"
   ]
  },
  {
   "cell_type": "markdown",
   "metadata": {},
   "source": [
    "### ========== Question 1.18 ==========\n",
    "\n",
    "Finally we will create a [`Random decision forest`](http://scikit-learn.org/0.19/modules/generated/sklearn.ensemble.RandomForestClassifier.html) classifier and compare the performance of this classifier to that of the decision tree. The random decision forest is an ensemble classifier that consists of many decision trees and outputs the class that is the mode of the class's output by individual trees. Start with `n_estimators = 100`, use the `entropy` criterion and the same train/test split as before. Plot the classification accuracy of the random forest model on the test set and show the confusion matrix. How does the random decision forest compare performance wise to the decision tree?"
   ]
  },
  {
   "cell_type": "code",
   "execution_count": 89,
   "metadata": {},
   "outputs": [
    {
     "name": "stdout",
     "output_type": "stream",
     "text": [
      "accuracy = 0.76\n"
     ]
    },
    {
     "data": {
      "image/png": "[encoded data removed]",
      "text/plain": [
       "<Figure size 432x288 with 2 Axes>"
      ]
     },
     "metadata": {},
     "output_type": "display_data"
    }
   ],
   "source": [
    "forest = RandomForestClassifier(criterion='entropy', n_estimators=100)\n",
    "forest.fit(X_train, y_train)\n",
    "for_pred = forest.predict(X_test)\n",
    "print('accuracy = ' + str(accuracy_score(y_test, for_pred)))\n",
    "conf = confusion_matrix(y_test, for_pred)\n",
    "norm_conf = conf/[[sum(conf[0])], [sum(conf[1])]]\n",
    "plot_confusion_matrix(norm_conf, classes=['Bad', 'Good'])"
   ]
  },
  {
   "cell_type": "markdown",
   "metadata": {},
   "source": [
    "### ========== Question 1.19 ==========\n",
    "How high can you get the performance of the classifier by changing the max depth of the trees (`max_depth`), or the `max_features` parameters? Try a few values just to get a look. *Don't do a grid search or anything in-depth, just get a feel*. Try the same settings twice...do you get the same accuracy?"
   ]
  },
  {
   "cell_type": "code",
   "execution_count": 97,
   "metadata": {},
   "outputs": [
    {
     "name": "stdout",
     "output_type": "stream",
     "text": [
      "---------------------------------------------\n",
      "MAX_FEATURES        MAX_DEPTH    ACCURACY\n",
      "---------------------------------------------\n",
      "1                   2            0.75\n",
      "1                   4            0.75\n",
      "1                   8            0.75\n",
      "1                   16           0.76\n",
      "1                   None         0.75\n",
      "sqrt                2            0.75\n",
      "sqrt                4            0.75\n",
      "sqrt                8            0.73\n",
      "sqrt                16           0.72\n",
      "sqrt                None         0.72\n",
      "log2                2            0.75\n",
      "log2                4            0.75\n",
      "log2                8            0.76\n",
      "log2                16           0.77\n",
      "log2                None         0.73\n"
     ]
    }
   ],
   "source": [
    "print('-' * 45)\n",
    "print('{:<20s}{:<13s}{:<s}'.format('MAX_FEATURES','MAX_DEPTH','ACCURACY'))\n",
    "print('-' * 45)\n",
    "\n",
    "features = [1, 'sqrt', 'log2']\n",
    "depth = [2, 4, 8, 16, None]\n",
    "for max_features in features:\n",
    "    for max_depth in depth:\n",
    "        forest = RandomForestClassifier(criterion='entropy', n_estimators=100, \n",
    "                                        max_depth=max_depth, max_features=max_features, random_state=1000)\n",
    "        forest.fit(X_train, y_train)\n",
    "        for_pred = forest.predict(X_test)\n",
    "        acc = accuracy_score(y_test, for_pred)\n",
    "        print('{:<20s}{:<13s}{:<s}'.format(str(max_features), str(max_depth), str(acc)))"
   ]
  },
  {
   "cell_type": "markdown",
   "metadata": {},
   "source": [
    "N.B. Observing these confusion matrices you'll see something very important - for some configurations, the Random Forest **always predicts the majority class**: incidentally these are also the cases which do the best. This highlights (again) the importance of always checking performance against a dummy classifier!!!\n",
    "\n",
    "Additionally, if you want to reproduce your results, you must set the random seed (you can do this with the `random_state` argument). Random forests are...random!"
   ]
  },
  {
   "cell_type": "markdown",
   "metadata": {},
   "source": [
    "### ========== Question 1.20 ==========\n",
    "Compare the feature importances as estimated with the decision tree and random forest classifiers."
   ]
  },
  {
   "cell_type": "code",
   "execution_count": 107,
   "metadata": {},
   "outputs": [
    {
     "name": "stdout",
     "output_type": "stream",
     "text": [
      "------------------------------------------------------------\n",
      "FEATURE                        DT IMPORTANCE   RF IMPORTANCE\n",
      "------------------------------------------------------------\n",
      "Duration                       0.1174          0.0682\n",
      "CreditAmount                   0.0             0.0823\n",
      "Age                            0.0458          0.0673\n",
      "CheckingAccount_<0             0.0938          0.036\n",
      "CheckingAccount_<200           0.0             0.0152\n",
      "CheckingAccount_>=200          0.0             0.009\n",
      "CheckingAccount_none           0.5241          0.055\n",
      "CreditHistory_critical         0.0716          0.0195\n",
      "CreditHistory_ok               0.0             0.0099\n",
      "CreditHistory_ok_at_this_bank  0.0585          0.0092\n",
      "CreditHistory_ok_til_now       0.0             0.0133\n",
      "CreditHistory_past_delays      0.0             0.0086\n",
      "Purpose_appliances             0.0             0.0022\n",
      "Purpose_business               0.0             0.0089\n",
      "Purpose_car_new                0.0             0.0167\n",
      "Purpose_car_used               0.0             0.0107\n",
      "Purpose_education              0.0             0.0067\n",
      "Purpose_furniture              0.0             0.012\n",
      "Purpose_others                 0.0             0.0018\n",
      "Purpose_repairs                0.0             0.0032\n",
      "Purpose_retraining             0.0             0.001\n",
      "Purpose_television             0.0             0.0133\n",
      "SavingsAccount_<100            0.0             0.0216\n",
      "SavingsAccount_<1000           0.0             0.0064\n",
      "SavingsAccount_<500            0.0             0.008\n",
      "SavingsAccount_>=1000          0.0             0.0071\n",
      "SavingsAccount_unknown         0.0             0.0138\n",
      "YearsEmployed_<1               0.0             0.0115\n",
      "YearsEmployed_<4               0.0             0.0147\n",
      "YearsEmployed_<7               0.0             0.0122\n",
      "YearsEmployed_>=7              0.0             0.0128\n",
      "YearsEmployed_unemployed       0.0             0.006\n",
      "InstallmentRate_1.0            0.0             0.0108\n",
      "InstallmentRate_2.0            0.0             0.0126\n",
      "InstallmentRate_3.0            0.0             0.0106\n",
      "InstallmentRate_4.0            0.0             0.0168\n",
      "PersonalStatus_female          0.0             0.0156\n",
      "PersonalStatus_male_divorced   0.0             0.006\n",
      "PersonalStatus_male_married    0.0             0.0086\n",
      "PersonalStatus_male_single     0.0             0.0142\n",
      "OtherDebtors_co                0.0             0.0056\n",
      "OtherDebtors_guarantor         0.0             0.008\n",
      "OtherDebtors_none              0.0             0.0099\n",
      "ResidentSince_1.0              0.0             0.0137\n",
      "ResidentSince_2.0              0.0             0.0135\n",
      "ResidentSince_3.0              0.0             0.0101\n",
      "ResidentSince_4.0              0.0             0.0148\n",
      "Property_car                   0.0             0.0148\n",
      "Property_real_estate           0.0             0.0134\n",
      "Property_savings               0.0             0.0124\n",
      "Property_unknown               0.0             0.0117\n",
      "OtherPlans_bank                0.0             0.014\n",
      "OtherPlans_none                0.0888          0.0149\n",
      "OtherPlans_stores              0.0             0.0066\n",
      "Housing_free                   0.0             0.0072\n",
      "Housing_own                    0.0             0.0134\n",
      "Housing_rent                   0.0             0.0109\n",
      "NumCreditsAtBank_1.0           0.0             0.0132\n",
      "NumCreditsAtBank_2.0           0.0             0.0127\n",
      "NumCreditsAtBank_3.0           0.0             0.0034\n",
      "NumCreditsAtBank_4.0           0.0             0.0007\n",
      "Job_management                 0.0             0.0111\n",
      "Job_skilled                    0.0             0.017\n",
      "Job_unemployed                 0.0             0.002\n",
      "Job_unskilled                  0.0             0.0126\n",
      "Dependents_1.0                 0.0             0.0089\n",
      "Dependents_2.0                 0.0             0.0093\n",
      "Telephone_no                   0.0             0.0128\n",
      "Telephone_yes                  0.0             0.0151\n",
      "Foreign_no                     0.0             0.0034\n",
      "Foreign_yes                    0.0             0.0034\n"
     ]
    }
   ],
   "source": [
    "# using the best performing forest: max_features = 'log2', max_depth = 16\n",
    "\n",
    "print('-' * 60)\n",
    "print('{:<31s}{:<16s}{:<s}'.format('FEATURE','DT IMPORTANCE','RF IMPORTANCE'))\n",
    "print('-' * 60)\n",
    "\n",
    "forest = RandomForestClassifier(criterion='entropy', n_estimators=100, max_depth=16, \n",
    "                                max_features='log2', random_state=1000).fit(X_train, y_train)\n",
    "tree = DecisionTreeClassifier(criterion='entropy', max_depth=3, random_state=1000).fit(X_train, y_train)\n",
    "for_imps = forest.feature_importances_\n",
    "tree_imps = tree.feature_importances_\n",
    "features = X_train.columns\n",
    "\n",
    "for i in range(len(features)):\n",
    "    feature = features[i]\n",
    "    for_imp = round(for_imps[i], 4)\n",
    "    tree_imp = round(tree_imps[i], 4)\n",
    "    print('{:<31s}{:<16s}{:<s}'.format(str(feature), str(tree_imp), str(for_imp)))"
   ]
  },
  {
   "cell_type": "markdown",
   "metadata": {},
   "source": [
    "## 2. Linear regression\n",
    "In the second part of the lab we use the [CPU performance](https://archive.ics.uci.edu/ml/datasets/Computer+Hardware) dataset for a simple regression task. Famliarise yourself with the dataset before moving on to the next step. Note that the version we will be using is missing the `Model Name` and `PRP` attributes. Our task will be to use the remaining attributes to predict `ERP` values.\n",
    "\n",
    "Download the dataset and save it in a directory called `datasets` in the same folder that your notebooks live. Alternatively, you can save the dataset in any folder you wish and modify the `data_path` variable below accordingly. We will load our data into a pandas DataFrame structure. "
   ]
  },
  {
   "cell_type": "code",
   "execution_count": 157,
   "metadata": {},
   "outputs": [],
   "source": [
    "# Load the dataset\n",
    "data_path = os.path.join(os.getcwd(), 'datasets', 'cpu.csv')\n",
    "cpu = pd.read_csv(data_path, delimiter = ',')"
   ]
  },
  {
   "cell_type": "markdown",
   "metadata": {},
   "source": [
    "### ========== Question 2.1 ==========\n",
    "Display the number of data points and attributes in the dataset. "
   ]
  },
  {
   "cell_type": "code",
   "execution_count": 109,
   "metadata": {},
   "outputs": [
    {
     "name": "stdout",
     "output_type": "stream",
     "text": [
      "# points = 209, # attributes = 8\n"
     ]
    }
   ],
   "source": [
    "print('# points = {}, # attributes = {}'.format(len(cpu), len(cpu.columns)))"
   ]
  },
  {
   "cell_type": "markdown",
   "metadata": {},
   "source": [
    "### ========== Question 2.2 ==========\n",
    "Get a feeling of the data by using pandas `describe()` method. "
   ]
  },
  {
   "cell_type": "code",
   "execution_count": 110,
   "metadata": {},
   "outputs": [
    {
     "data": {
      "text/html": [
       "<div>\n",
       "<style scoped>\n",
       "    .dataframe tbody tr th:only-of-type {\n",
       "        vertical-align: middle;\n",
       "    }\n",
       "\n",
       "    .dataframe tbody tr th {\n",
       "        vertical-align: top;\n",
       "    }\n",
       "\n",
       "    .dataframe thead th {\n",
       "        text-align: right;\n",
       "    }\n",
       "</style>\n",
       "<table border=\"1\" class=\"dataframe\">\n",
       "  <thead>\n",
       "    <tr style=\"text-align: right;\">\n",
       "      <th></th>\n",
       "      <th>MYCT</th>\n",
       "      <th>MMIN</th>\n",
       "      <th>MMAX</th>\n",
       "      <th>CACH</th>\n",
       "      <th>CHMIN</th>\n",
       "      <th>CHMAX</th>\n",
       "      <th>ERP</th>\n",
       "    </tr>\n",
       "  </thead>\n",
       "  <tbody>\n",
       "    <tr>\n",
       "      <th>count</th>\n",
       "      <td>209.000000</td>\n",
       "      <td>209.000000</td>\n",
       "      <td>209.000000</td>\n",
       "      <td>209.000000</td>\n",
       "      <td>209.000000</td>\n",
       "      <td>209.000000</td>\n",
       "      <td>209.000000</td>\n",
       "    </tr>\n",
       "    <tr>\n",
       "      <th>mean</th>\n",
       "      <td>203.822967</td>\n",
       "      <td>2867.980861</td>\n",
       "      <td>11796.153110</td>\n",
       "      <td>25.205742</td>\n",
       "      <td>4.698565</td>\n",
       "      <td>18.267943</td>\n",
       "      <td>99.330144</td>\n",
       "    </tr>\n",
       "    <tr>\n",
       "      <th>std</th>\n",
       "      <td>260.262926</td>\n",
       "      <td>3878.742758</td>\n",
       "      <td>11726.564377</td>\n",
       "      <td>40.628722</td>\n",
       "      <td>6.816274</td>\n",
       "      <td>25.997318</td>\n",
       "      <td>154.757102</td>\n",
       "    </tr>\n",
       "    <tr>\n",
       "      <th>min</th>\n",
       "      <td>17.000000</td>\n",
       "      <td>64.000000</td>\n",
       "      <td>64.000000</td>\n",
       "      <td>0.000000</td>\n",
       "      <td>0.000000</td>\n",
       "      <td>0.000000</td>\n",
       "      <td>15.000000</td>\n",
       "    </tr>\n",
       "    <tr>\n",
       "      <th>25%</th>\n",
       "      <td>50.000000</td>\n",
       "      <td>768.000000</td>\n",
       "      <td>4000.000000</td>\n",
       "      <td>0.000000</td>\n",
       "      <td>1.000000</td>\n",
       "      <td>5.000000</td>\n",
       "      <td>28.000000</td>\n",
       "    </tr>\n",
       "    <tr>\n",
       "      <th>50%</th>\n",
       "      <td>110.000000</td>\n",
       "      <td>2000.000000</td>\n",
       "      <td>8000.000000</td>\n",
       "      <td>8.000000</td>\n",
       "      <td>2.000000</td>\n",
       "      <td>8.000000</td>\n",
       "      <td>45.000000</td>\n",
       "    </tr>\n",
       "    <tr>\n",
       "      <th>75%</th>\n",
       "      <td>225.000000</td>\n",
       "      <td>4000.000000</td>\n",
       "      <td>16000.000000</td>\n",
       "      <td>32.000000</td>\n",
       "      <td>6.000000</td>\n",
       "      <td>24.000000</td>\n",
       "      <td>101.000000</td>\n",
       "    </tr>\n",
       "    <tr>\n",
       "      <th>max</th>\n",
       "      <td>1500.000000</td>\n",
       "      <td>32000.000000</td>\n",
       "      <td>64000.000000</td>\n",
       "      <td>256.000000</td>\n",
       "      <td>52.000000</td>\n",
       "      <td>176.000000</td>\n",
       "      <td>1238.000000</td>\n",
       "    </tr>\n",
       "  </tbody>\n",
       "</table>\n",
       "</div>"
      ],
      "text/plain": [
       "              MYCT          MMIN          MMAX        CACH       CHMIN  \\\n",
       "count   209.000000    209.000000    209.000000  209.000000  209.000000   \n",
       "mean    203.822967   2867.980861  11796.153110   25.205742    4.698565   \n",
       "std     260.262926   3878.742758  11726.564377   40.628722    6.816274   \n",
       "min      17.000000     64.000000     64.000000    0.000000    0.000000   \n",
       "25%      50.000000    768.000000   4000.000000    0.000000    1.000000   \n",
       "50%     110.000000   2000.000000   8000.000000    8.000000    2.000000   \n",
       "75%     225.000000   4000.000000  16000.000000   32.000000    6.000000   \n",
       "max    1500.000000  32000.000000  64000.000000  256.000000   52.000000   \n",
       "\n",
       "            CHMAX          ERP  \n",
       "count  209.000000   209.000000  \n",
       "mean    18.267943    99.330144  \n",
       "std     25.997318   154.757102  \n",
       "min      0.000000    15.000000  \n",
       "25%      5.000000    28.000000  \n",
       "50%      8.000000    45.000000  \n",
       "75%     24.000000   101.000000  \n",
       "max    176.000000  1238.000000  "
      ]
     },
     "execution_count": 110,
     "metadata": {},
     "output_type": "execute_result"
    }
   ],
   "source": [
    "cpu.describe()"
   ]
  },
  {
   "cell_type": "markdown",
   "metadata": {},
   "source": [
    "### ========== Question 2.3 ==========\n",
    "Display the first 10 data points of the dataset"
   ]
  },
  {
   "cell_type": "code",
   "execution_count": 114,
   "metadata": {},
   "outputs": [
    {
     "data": {
      "text/html": [
       "<div>\n",
       "<style scoped>\n",
       "    .dataframe tbody tr th:only-of-type {\n",
       "        vertical-align: middle;\n",
       "    }\n",
       "\n",
       "    .dataframe tbody tr th {\n",
       "        vertical-align: top;\n",
       "    }\n",
       "\n",
       "    .dataframe thead th {\n",
       "        text-align: right;\n",
       "    }\n",
       "</style>\n",
       "<table border=\"1\" class=\"dataframe\">\n",
       "  <thead>\n",
       "    <tr style=\"text-align: right;\">\n",
       "      <th></th>\n",
       "      <th>vendor</th>\n",
       "      <th>MYCT</th>\n",
       "      <th>MMIN</th>\n",
       "      <th>MMAX</th>\n",
       "      <th>CACH</th>\n",
       "      <th>CHMIN</th>\n",
       "      <th>CHMAX</th>\n",
       "      <th>ERP</th>\n",
       "    </tr>\n",
       "  </thead>\n",
       "  <tbody>\n",
       "    <tr>\n",
       "      <th>0</th>\n",
       "      <td>adviser</td>\n",
       "      <td>125.0</td>\n",
       "      <td>256.0</td>\n",
       "      <td>6000.0</td>\n",
       "      <td>256.0</td>\n",
       "      <td>16.0</td>\n",
       "      <td>128.0</td>\n",
       "      <td>199.0</td>\n",
       "    </tr>\n",
       "    <tr>\n",
       "      <th>1</th>\n",
       "      <td>amdahl</td>\n",
       "      <td>29.0</td>\n",
       "      <td>8000.0</td>\n",
       "      <td>32000.0</td>\n",
       "      <td>32.0</td>\n",
       "      <td>8.0</td>\n",
       "      <td>32.0</td>\n",
       "      <td>253.0</td>\n",
       "    </tr>\n",
       "    <tr>\n",
       "      <th>2</th>\n",
       "      <td>amdahl</td>\n",
       "      <td>29.0</td>\n",
       "      <td>8000.0</td>\n",
       "      <td>32000.0</td>\n",
       "      <td>32.0</td>\n",
       "      <td>8.0</td>\n",
       "      <td>32.0</td>\n",
       "      <td>253.0</td>\n",
       "    </tr>\n",
       "    <tr>\n",
       "      <th>3</th>\n",
       "      <td>amdahl</td>\n",
       "      <td>29.0</td>\n",
       "      <td>8000.0</td>\n",
       "      <td>32000.0</td>\n",
       "      <td>32.0</td>\n",
       "      <td>8.0</td>\n",
       "      <td>32.0</td>\n",
       "      <td>253.0</td>\n",
       "    </tr>\n",
       "    <tr>\n",
       "      <th>4</th>\n",
       "      <td>amdahl</td>\n",
       "      <td>29.0</td>\n",
       "      <td>8000.0</td>\n",
       "      <td>16000.0</td>\n",
       "      <td>32.0</td>\n",
       "      <td>8.0</td>\n",
       "      <td>16.0</td>\n",
       "      <td>132.0</td>\n",
       "    </tr>\n",
       "    <tr>\n",
       "      <th>5</th>\n",
       "      <td>amdahl</td>\n",
       "      <td>26.0</td>\n",
       "      <td>8000.0</td>\n",
       "      <td>32000.0</td>\n",
       "      <td>64.0</td>\n",
       "      <td>8.0</td>\n",
       "      <td>32.0</td>\n",
       "      <td>290.0</td>\n",
       "    </tr>\n",
       "    <tr>\n",
       "      <th>6</th>\n",
       "      <td>amdahl</td>\n",
       "      <td>23.0</td>\n",
       "      <td>16000.0</td>\n",
       "      <td>32000.0</td>\n",
       "      <td>64.0</td>\n",
       "      <td>16.0</td>\n",
       "      <td>32.0</td>\n",
       "      <td>381.0</td>\n",
       "    </tr>\n",
       "    <tr>\n",
       "      <th>7</th>\n",
       "      <td>amdahl</td>\n",
       "      <td>23.0</td>\n",
       "      <td>16000.0</td>\n",
       "      <td>32000.0</td>\n",
       "      <td>64.0</td>\n",
       "      <td>16.0</td>\n",
       "      <td>32.0</td>\n",
       "      <td>381.0</td>\n",
       "    </tr>\n",
       "    <tr>\n",
       "      <th>8</th>\n",
       "      <td>amdahl</td>\n",
       "      <td>23.0</td>\n",
       "      <td>16000.0</td>\n",
       "      <td>64000.0</td>\n",
       "      <td>64.0</td>\n",
       "      <td>16.0</td>\n",
       "      <td>32.0</td>\n",
       "      <td>749.0</td>\n",
       "    </tr>\n",
       "    <tr>\n",
       "      <th>9</th>\n",
       "      <td>amdahl</td>\n",
       "      <td>23.0</td>\n",
       "      <td>32000.0</td>\n",
       "      <td>64000.0</td>\n",
       "      <td>128.0</td>\n",
       "      <td>32.0</td>\n",
       "      <td>64.0</td>\n",
       "      <td>1238.0</td>\n",
       "    </tr>\n",
       "  </tbody>\n",
       "</table>\n",
       "</div>"
      ],
      "text/plain": [
       "    vendor   MYCT     MMIN     MMAX   CACH  CHMIN  CHMAX     ERP\n",
       "0  adviser  125.0    256.0   6000.0  256.0   16.0  128.0   199.0\n",
       "1   amdahl   29.0   8000.0  32000.0   32.0    8.0   32.0   253.0\n",
       "2   amdahl   29.0   8000.0  32000.0   32.0    8.0   32.0   253.0\n",
       "3   amdahl   29.0   8000.0  32000.0   32.0    8.0   32.0   253.0\n",
       "4   amdahl   29.0   8000.0  16000.0   32.0    8.0   16.0   132.0\n",
       "5   amdahl   26.0   8000.0  32000.0   64.0    8.0   32.0   290.0\n",
       "6   amdahl   23.0  16000.0  32000.0   64.0   16.0   32.0   381.0\n",
       "7   amdahl   23.0  16000.0  32000.0   64.0   16.0   32.0   381.0\n",
       "8   amdahl   23.0  16000.0  64000.0   64.0   16.0   32.0   749.0\n",
       "9   amdahl   23.0  32000.0  64000.0  128.0   32.0   64.0  1238.0"
      ]
     },
     "execution_count": 114,
     "metadata": {},
     "output_type": "execute_result"
    }
   ],
   "source": [
    "cpu.head(10)"
   ]
  },
  {
   "cell_type": "markdown",
   "metadata": {},
   "source": [
    "### ========== Question 2.4 ========== \n",
    "You might have noticed that the `vendor` attribute is categorical. This will give problems when using a linear regression model. For now we can simply remove this attribute. Create a new DataFrame called `cpu_clean` by copying `cpu` but omit the `vendor` attribute. Display the number of samples and attributes in the clean dataset as a sanity check."
   ]
  },
  {
   "cell_type": "code",
   "execution_count": 116,
   "metadata": {},
   "outputs": [
    {
     "name": "stdout",
     "output_type": "stream",
     "text": [
      "# points = 209, # attributes = 7\n"
     ]
    }
   ],
   "source": [
    "cpu_clean = cpu.copy().drop('vendor', axis=1)\n",
    "print('# points = {}, # attributes = {}'.format(len(cpu_clean), len(cpu_clean.columns)))"
   ]
  },
  {
   "cell_type": "markdown",
   "metadata": {},
   "source": [
    "### ========== Question 2.5 ==========\n",
    "Now -as always- we want to perform some exploratory data analysis. Remember that our task is to predict `ERP` values, so it's a good idea to inspect individual scatter plots of the target variable (`ERP`) against our input features. For this purpose we will use once again seaborn's pairplot implementation.\n",
    "\n",
    "Create a series of [pairplots](https://seaborn.github.io/generated/seaborn.pairplot.html?highlight=pairplot#seaborn.pairplot) showing the pairwise relationship of `ERP` and the remaining attributes in the data. You can do so by specifying explicitly the `x_vars` and `y_vars` input arguments in the pairplot. *Hnt: Your final plot will consist of 6 subplots each contaning a scatter plot.*"
   ]
  },
  {
   "cell_type": "code",
   "execution_count": 117,
   "metadata": {},
   "outputs": [
    {
     "data": {
      "image/png": "[encoded data removed]",
      "text/plain": [
       "<Figure size 1296x216 with 6 Axes>"
      ]
     },
     "metadata": {},
     "output_type": "display_data"
    }
   ],
   "source": [
    "ax = sns.pairplot(data=cpu_clean, x_vars=['MYCT', 'MMIN', 'MMAX', 'CACH', 'CHMIN', 'CHMAX'], y_vars = 'ERP', height=3)"
   ]
  },
  {
   "cell_type": "markdown",
   "metadata": {},
   "source": [
    "### ========== Question 2.6 ==========\n",
    "* Do you think that ERP should be at least partially predictable from the input attributes?\n",
    "* Do any attributes exhibit significant correlations?"
   ]
  },
  {
   "cell_type": "markdown",
   "metadata": {},
   "source": [
    "***Your answer goes here:*** *Yes, most of the input attributes display a linear correlation with ERP and thus lend themselves to prediction of the ERP with linear regression. MMIN and MMAX show significant positive linear correlations, while MYCT shows a strongly non-linear correlation.*"
   ]
  },
  {
   "cell_type": "markdown",
   "metadata": {},
   "source": [
    "### ========== Question 2.7 ==========\n",
    "Now we have a feel for the data and we will try fitting a simple linear regression model. Similarly to what we did in the first part of the lab, we want to use cross-validation to evaluate the goodness of the fit.\n",
    "\n",
    "By using the `cpu_clean` dataset extract the raw values for the input features and the target variable and store them in two matrices, called `X` and `y` respectively. \n",
    "\n",
    "Then, split the dataset into training and testing sets by using a 75%-25% split (training/testing).\n",
    "\n",
    "Display the shapes of all matrices involved and double-check that all dimensionalities appear to be as expected."
   ]
  },
  {
   "cell_type": "code",
   "execution_count": 132,
   "metadata": {},
   "outputs": [
    {
     "name": "stdout",
     "output_type": "stream",
     "text": [
      "Shape of X is (209, 6)\n",
      "Shape of X_train is (156, 6)\n",
      "Shape of X_test is (53, 6)\n",
      "Shape of y is (209,)\n",
      "Shape of y_train is (156,)\n",
      "Shape of y_test is (53,)\n"
     ]
    }
   ],
   "source": [
    "X = cpu_clean.drop('ERP', axis=1)\n",
    "y = cpu_clean['ERP']\n",
    "X_train, X_test, y_train, y_test = train_test_split(X, y, train_size = 0.75, test_size=0.25)\n",
    "\n",
    "print('Shape of X is {}'.format(X.shape))\n",
    "print('Shape of X_train is {}'.format(X_train.shape))\n",
    "print('Shape of X_test is {}'.format(X_test.shape))\n",
    "print('Shape of y is {}'.format(y.shape))\n",
    "print('Shape of y_train is {}'.format(y_train.shape))\n",
    "print('Shape of y_test is {}'.format(y_test.shape))"
   ]
  },
  {
   "cell_type": "markdown",
   "metadata": {},
   "source": [
    "### ========== Question 2.8 ==========\n",
    "Fit a simple linear regressor by using the [`LinearRegression`](http://scikit-learn.org/0.19/modules/generated/sklearn.linear_model.LinearRegression.html) model in Scikit-learn. Report the training accuracy by using the `score` attribute. What does this represent?"
   ]
  },
  {
   "cell_type": "code",
   "execution_count": 124,
   "metadata": {},
   "outputs": [
    {
     "data": {
      "text/plain": [
       "0.9209576486078567"
      ]
     },
     "execution_count": 124,
     "metadata": {},
     "output_type": "execute_result"
    }
   ],
   "source": [
    "linreg = LinearRegression()\n",
    "linreg.fit(X_train, y_train)\n",
    "linreg.score(X_train, y_train)"
   ]
  },
  {
   "cell_type": "markdown",
   "metadata": {},
   "source": [
    "***Your answer goes here:*** *The score attribute outputs the R^2 of the prediction, which can be negative and has a max of 1.0. If the models constantly predicts the mean value of y with no regard for the input features, R^2 will be 0.0.*"
   ]
  },
  {
   "cell_type": "markdown",
   "metadata": {},
   "source": [
    "### ========== Question 2.9 ==========\n",
    "Now report the testing accuracy by using the `score` attribute of the regressor as well as the `r2_score` metric. Confirm that these two yield identical results.\n",
    "\n",
    "How does the accuracy compare to the one reported on the training dataset? Do you think that your model does well on generalising on unseen data? "
   ]
  },
  {
   "cell_type": "code",
   "execution_count": 136,
   "metadata": {},
   "outputs": [
    {
     "name": "stdout",
     "output_type": "stream",
     "text": [
      "score gives 0.9037821604579073 while r2_score gives 0.9037821604579073\n",
      "identical results\n"
     ]
    }
   ],
   "source": [
    "score = linreg.score(X_train, y_train)\n",
    "r2 = r2_score(y_train, linreg.predict(X_train))\n",
    "print('score gives {} while r2_score gives {}'.format(score, r2))\n",
    "if score == r2:\n",
    "    print('identical results')"
   ]
  },
  {
   "cell_type": "markdown",
   "metadata": {},
   "source": [
    "***Your answer goes here:***"
   ]
  },
  {
   "cell_type": "markdown",
   "metadata": {},
   "source": [
    "### ========== Question 2.10 ==========\n",
    "Now we want to get a feel for how good the fit is, so we wil plot the measured values against the predicted ones. Make use of the function provided below which takes as input arguments the measured (`y_true`) and predicted (`y_pred`) values of a target variable and produces a scatter plot for the two by also including a straight line going through the origin. \n",
    "\n",
    "Where would you expect the points to be for a perfect fit?"
   ]
  },
  {
   "cell_type": "code",
   "execution_count": 137,
   "metadata": {},
   "outputs": [],
   "source": [
    "def fit_scatter(y_true, y_pred):\n",
    "    assert y_true.shape == y_pred.shape\n",
    "    fig, ax = plt.subplots()\n",
    "    ax.scatter(y_true, y_pred)\n",
    "    ax.plot([y_true.min(), y_true.max()], [y_true.min(), y_true.max()], 'k--', lw=4)\n",
    "    ax.set_xlabel('Measured')\n",
    "    ax.set_ylabel('Predicted')"
   ]
  },
  {
   "cell_type": "code",
   "execution_count": 140,
   "metadata": {},
   "outputs": [
    {
     "data": {
      "image/png": "[encoded data removed]",
      "text/plain": [
       "<Figure size 432x288 with 1 Axes>"
      ]
     },
     "metadata": {},
     "output_type": "display_data"
    }
   ],
   "source": [
    "fit_scatter(y_train, linreg.predict(X_train))"
   ]
  },
  {
   "cell_type": "markdown",
   "metadata": {},
   "source": [
    "***Your answer goes here:*** *For a perfect fit, all points would be on the line*"
   ]
  },
  {
   "cell_type": "markdown",
   "metadata": {},
   "source": [
    "### ========== Question 2.11 ==========\n",
    "Another way of assessing the performance of the model is to inspect the distribution of the errors. Make a histogram plot by using seaborn's `displot` function. This will also show an estimate of the underlying distribution.\n",
    "\n",
    "Does it look like the errors are normally distributed? Would you trust the fit of the distribution on the graph? Explain why."
   ]
  },
  {
   "cell_type": "code",
   "execution_count": 151,
   "metadata": {},
   "outputs": [
    {
     "data": {
      "image/png": "[encoded data removed]",
      "text/plain": [
       "<Figure size 432x288 with 1 Axes>"
      ]
     },
     "metadata": {},
     "output_type": "display_data"
    }
   ],
   "source": [
    "sns.distplot(y_test - linreg.predict(X_test))\n",
    "plt.show()"
   ]
  },
  {
   "cell_type": "markdown",
   "metadata": {},
   "source": [
    "***Your answer goes here:*** *The errors seem to generally follow a normal distribution, however the skew suggests some overfitting. Due to the limited number of samples, however, it is difficult to make a judgement.*"
   ]
  },
  {
   "cell_type": "markdown",
   "metadata": {},
   "source": [
    "### ========== Question 2.12 ==========\n",
    "Above we deleted the vendor variable. However, we can use nominal attributes in regression by converting them to numeric, exactly in the same way that we did at the first part of this lab. \n",
    "\n",
    "Now, use the original `cpu` dataset and convert the `vendor` attribute to a numeric one by means of one-hot-encoding. Then train a linear regression model to the data and compare its performance to the one we had previously. Did adding the *binazired vendor* variable help? "
   ]
  },
  {
   "cell_type": "code",
   "execution_count": 179,
   "metadata": {},
   "outputs": [
    {
     "data": {
      "text/plain": [
       "0.8658121201830314"
      ]
     },
     "execution_count": 179,
     "metadata": {},
     "output_type": "execute_result"
    }
   ],
   "source": [
    "cpu_onehot = pd.get_dummies(cpu.drop('ERP', axis=1))\n",
    "X_train, X_test, y_train, y_test = train_test_split(cpu_onehot, cpu['ERP'], train_size = 0.9, test_size=0.1, random_state=0)\n",
    "linreg2 = LinearRegression()\n",
    "linreg2.fit(X_train, y_train)\n",
    "linreg2.score(X_test, y_test)"
   ]
  },
  {
   "cell_type": "markdown",
   "metadata": {},
   "source": [
    "***Your answer goes here:*** *Adding the binarized vendor variable did not help, it actually lowered the accuracy score*"
   ]
  },
  {
   "cell_type": "code",
   "execution_count": null,
   "metadata": {},
   "outputs": [],
   "source": []
  }
 ],
 "metadata": {
  "kernelspec": {
   "display_name": "Python 3",
   "language": "python",
   "name": "python3"
  },
  "language_info": {
   "codemirror_mode": {
    "name": "ipython",
    "version": 3
   },
   "file_extension": ".py",
   "mimetype": "text/x-python",
   "name": "python",
   "nbconvert_exporter": "python",
   "pygments_lexer": "ipython3",
   "version": "3.7.4"
  }
 },
 "nbformat": 4,
 "nbformat_minor": 1
}
